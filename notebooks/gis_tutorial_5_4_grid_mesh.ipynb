{
 "cells": [
  {
   "cell_type": "markdown",
   "metadata": {},
   "source": [
    "# **GIS × Python Tutorial 5.4 ~ 標準地域メッシュの作成 ~**\n",
    "\n",
    "<br>\n",
    "\n",
    "## **はじめに**\n",
    "この記事は「GIS × Python Tutorial」の関連記事です。\n",
    "\n",
    "前回の記事では MeshGrid の作成に関して紹介しました。今回は地域メッシュを作成していきます。\n",
    "\n",
    "\n",
    "## **地域メッシュとは**\n",
    "地域メッシュとは、経緯度に基づき地域を隙間なく GridMesh で覆ったものです。地域メッシュには以下の様な特徴があります。\n",
    "\n",
    " - ほぼ同一の大きさ及び形状の区画を単位として区分されているので，地域メッシュ相互間の事象の計量的比較が容易です。\n",
    "\n",
    " - 位置や区画が固定されていることから，市町村などの行政区域の境域変更や地形，地物の変化による調査区の設定変更などの影響を受けることがなく，地域事象の時系列的比較が容易です。\n",
    "\n",
    " - 任意の地域について，その地域内の地域メッシュのデータを合算することにより，必要な地域のデータを容易に入手できます。\n",
    "\n",
    " - 地域メッシュは，緯度・経度に基づき区画されたほぼ正方形の形状であることから，位置の表示が明確で簡便にできるので，距離に関連した分析，計算，比較が容易です。\n",
    "\n",
    "\n",
    "地域メッシュ別に情報を表示する方法は，統計データの表示のみにとどまらず，地形，自然環境，行政地域，道路・鉄道，公共施設，文化財などの位置・範囲等を数値化して表示するなど，多くの分野で広まっています。これらの数値情報と統計データを重ね合わせて地域メッシュ別に表示あるいは分析することにより，地域メッシュ統計を更に多角的に利用することができます。 \n",
    "\n",
    "\n",
    "## **地域メッシュの種類**\n",
    "|    | 区画の種類         | 区分方法                                                                                                             | 経度の間隔   | 緯度の間隔   | 1辺の長さ   |\n",
    "|---:|:-------------------|:---------------------------------------------------------------------------------------------------------------------|:-------------|:-------------|:------------|\n",
    "|  0 | 第1次地域区画      | 全国の地域を偶数緯度及びその間隔（120分）を3等分した緯度における緯線並びに１度ごとの経線とによって分割してできる区域 | 1度          | 40分         | 約80km      |\n",
    "|  1 | 第2次地域区画      | 第1次地域区画を緯線方向第2次地域区画及び経線方向に8等分してできる区域                                                | 7分30秒      | 5分          | 約10km      |\n",
    "|  2 | 基準（第3次）地域メッシュ   | 第2次地域区画を緯線方向及び経線方向に8等分してできる区画                                                             | 45秒         | 30秒         | 約1km       |\n",
    "|  3 | 2分の1地域メッシュ | 基準地域メッシュ（第3次地域区画）を緯線方向，経線方向に2等分してできる区域                                           | 22.5秒       | 15秒         | 約500m      |\n",
    "|  4 | 4分の1地域メッシュ | 2分の1地域メッシュを緯線方向，経線方向に3等分してできる区域                                                          | 11.25秒      | 7.5秒        | 約250m      |\n",
    "|  5 | 8分の1地域メッシュ | 4分の1地域メッシュを緯線方向，経線方向に2等分してできる区域                                                          | 5.625秒      | 3.75秒       | 約125m      |\n",
    "\n",
    "\n",
    "今回はこの中から「基準地域メッシュ」の作成を行ってみます。\n",
    "<br>\n",
    "\n",
    "## **コード実行の準備**\n",
    "\n",
    "### **Import**"
   ]
  },
  {
   "cell_type": "code",
   "execution_count": 8,
   "metadata": {},
   "outputs": [],
   "source": [
    "from decimal import Decimal\n",
    "from decimal import ROUND_FLOOR\n",
    "from typing import NamedTuple\n",
    "\n",
    "import geopandas as gpd\n",
    "from matplotlib import pyplot as plt\n",
    "import numpy as np\n",
    "import shapely\n",
    "from shapely.plotting import plot_polygon"
   ]
  },
  {
   "cell_type": "markdown",
   "metadata": {},
   "source": [
    "## **最初に知るべき注意点**\n",
    "---\n",
    "経緯度は10進数で表しますが、小数部分の桁数が多いことは欠点です。ご存じの方もいらっしゃるかとは思いますが Pythonなどの は浮動小数点数の計算が苦手です。我々が 10進数を渡したとしてもそれを一度 2進数に変換してから計算し、また 10進数に直して返すのですが、その際に計算誤差が生じます。実際に確認してみましょう。"
   ]
  },
  {
   "cell_type": "code",
   "execution_count": 4,
   "metadata": {},
   "outputs": [
    {
     "name": "stdout",
     "output_type": "stream",
     "text": [
      "\n",
      "計算結果: 0.674999999999983\n",
      "正解    : 0.675\n",
      "\n"
     ]
    }
   ],
   "source": [
    "lon_min = 141.2375\n",
    "lon_max = 141.9125\n",
    "correct = 0.675\n",
    "\n",
    "print(f\"\"\"\n",
    "計算結果: {lon_max - lon_min}\n",
    "正解    : {correct}\n",
    "\"\"\")"
   ]
  },
  {
   "cell_type": "markdown",
   "metadata": {},
   "source": [
    "上記を見てもわかる通り、小数部での計算誤差が確認できます。通常であれば無視しても良いような場合もありますが、この地域メッシュの作成においては座標が正確である事が大切なので、この小数部の取り扱いについても注意する必要があります。\n",
    "\n",
    "これを解決するには以下の方法があります。\n",
    "\n",
    " - 整数にして計算し、浮動小数点数に戻す\n",
    "\n",
    " - Decimal モジュールを使用する\n",
    "\n",
    "まずは整数にする方法を見ていきましょう。今回は小数部分の桁数を 9桁とします。"
   ]
  },
  {
   "cell_type": "code",
   "execution_count": 5,
   "metadata": {},
   "outputs": [
    {
     "name": "stdout",
     "output_type": "stream",
     "text": [
      "\n",
      "計算結果: 0.675\n",
      "正解    : 0.675\n",
      "\n"
     ]
    }
   ],
   "source": [
    "digits = 9\n",
    "coef = int('1' + '0' * digits)\n",
    "\n",
    "print(f\"\"\"\n",
    "計算結果: {(lon_max * coef - lon_min * coef) / coef}\n",
    "正解    : {correct}\n",
    "\"\"\")"
   ]
  },
  {
   "cell_type": "markdown",
   "metadata": {},
   "source": [
    "計算結果が一致しました。これでも問題ないかもしれませんが、Python的には 10進浮動小数点算術の為の Python 標準モジュールである Decimal モジュールを使用した方が綺麗に見えるかもしれません。"
   ]
  },
  {
   "cell_type": "code",
   "execution_count": 6,
   "metadata": {},
   "outputs": [
    {
     "name": "stdout",
     "output_type": "stream",
     "text": [
      "\n",
      "計算結果: 0.6750\n",
      "正解    : 0.675\n",
      "\n"
     ]
    }
   ],
   "source": [
    "lon_min = Decimal(str(lon_min))\n",
    "lon_max = Decimal(str(lon_max))\n",
    "\n",
    "print(f\"\"\"\n",
    "計算結果: {lon_max - lon_min}\n",
    "正解    : {correct}\n",
    "\"\"\")"
   ]
  },
  {
   "cell_type": "markdown",
   "metadata": {},
   "source": [
    "## **度分秒から10進経緯度への変換**\n",
    "---\n",
    "「地域メッシュの種類」表で確認した様に、各メッシュのサイズは度分秒で定義されています。このままでは計算しづらいので、度分秒から10進経緯度に変換する関数を作成します。また今後の関数で出力される Float型の値は`decimal.Deciaml`として返したいのでデコレーターを作成して管理しましょう。"
   ]
  },
  {
   "cell_type": "code",
   "execution_count": 12,
   "metadata": {},
   "outputs": [
    {
     "name": "stdout",
     "output_type": "stream",
     "text": [
      "\n",
      "<<< 基準地域メッシュの経緯度間隔 >>>\n",
      "lon: 0.0125\n",
      "lat: 0.008333333333333333\n",
      "\n"
     ]
    }
   ],
   "source": [
    "class Pitch(NamedTuple):\n",
    "    lon: Decimal\n",
    "    lat: Decimal\n",
    "\n",
    "\n",
    "def set_decimal(func):\n",
    "    def wrapper(*args):\n",
    "        new_args = []\n",
    "        for arg in args:\n",
    "            if type(arg) == float:\n",
    "                new_args.append(Decimal(str(arg)))\n",
    "            else:\n",
    "                new_args.append(arg)\n",
    "        result = func(*new_args)\n",
    "        if type(result) == float:\n",
    "            return Decimal(str(result))\n",
    "        return result\n",
    "    return wrapper\n",
    "\n",
    "\n",
    "@set_decimal\n",
    "def dms_to_lonlat(d, m, s):\n",
    "    return (d + m / 60 + s / 3600)\n",
    "\n",
    "\n",
    "\n",
    "tertiary_pitch = Pitch(\n",
    "    lon=dms_to_lonlat(0, 0, 45),\n",
    "    lat=dms_to_lonlat(0, 0, 30)\n",
    ")\n",
    "print(f\"\"\"\n",
    "<<< 基準地域メッシュの経緯度間隔 >>>\n",
    "lon: {tertiary_pitch.lon}\n",
    "lat: {tertiary_pitch.lat}\n",
    "\"\"\")"
   ]
  },
  {
   "cell_type": "markdown",
   "metadata": {},
   "source": [
    "## **GridMeshの範囲を計算**\n",
    "\n",
    "前回の記事で作成したGridMeshは渡したデータのXの最小値とYの最大値からスタートした範囲を計算しましたが、基準地域メッシュは決まった位置がある為、「どのメッシュ範囲にデータ範囲が収まるか」を計算する必要があります。\n",
    "\n",
    "メッシュに合わせた最小の座標を計算するには、与えられた座標から各メッシュ間隔で除算して得た剰余を引くことで求めます。\n",
    "\n",
    "メッシュに合わせた最大の座標を計算するには、与えられた座標から各メッシュ間隔で除算して得た剰余を引き、その後メッシュ間隔を加えることで求めます。"
   ]
  },
  {
   "cell_type": "code",
   "execution_count": 13,
   "metadata": {},
   "outputs": [
    {
     "name": "stdout",
     "output_type": "stream",
     "text": [
      "\n",
      "data lon min: 140.38589 -> result lon min: 140.37500\n",
      "remainder: 0.00000\n",
      "\n",
      "data lat min: 40.53722 -> result lat min: 40.533333333333331712\n",
      "remainder: 0E-18\n",
      "\n",
      "data lon max: 140.55906 -> result lon min: 140.56250\n",
      "remainder: 0.00000\n",
      "\n",
      "data lat max: 40.67484 -> result lat min: 40.674999999999998373\n",
      "remainder: 0E-18\n",
      "\n"
     ]
    }
   ],
   "source": [
    "@set_decimal\n",
    "def min_cds(lonlat, pitch):\n",
    "    \"\"\"最小の座標を計算する\"\"\"\n",
    "    return lonlat - lonlat % pitch\n",
    "\n",
    "@set_decimal\n",
    "def max_cds(lonlat, pitch):\n",
    "    \"\"\"最大の座標を計算する\"\"\"\n",
    "    return lonlat - lonlat % pitch + pitch\n",
    "\n",
    "\n",
    "# 今回メッシュ作成の材料にする座標\n",
    "x_min = 140.38589\n",
    "y_min = 40.53722\n",
    "x_max = 140.55906\n",
    "y_max = 40.67484\n",
    "\n",
    "tertiary_lon_min = min_cds(x_min, tertiary_pitch.lon)\n",
    "tertiary_lat_min = min_cds(y_min, tertiary_pitch.lat)\n",
    "tertiary_lon_max = max_cds(x_max, tertiary_pitch.lon)\n",
    "tertiary_lat_max = max_cds(y_max, tertiary_pitch.lat)\n",
    "\n",
    "print(f\"\"\"\n",
    "data lon min: {x_min} -> result lon min: {tertiary_lon_min}\n",
    "remainder: {tertiary_lon_min % tertiary_pitch.lon}\n",
    "\n",
    "data lat min: {y_min} -> result lat min: {tertiary_lat_min}\n",
    "remainder: {tertiary_lat_min % tertiary_pitch.lat}\n",
    "\n",
    "data lon max: {x_max} -> result lon min: {tertiary_lon_max}\n",
    "remainder: {tertiary_lon_min % tertiary_pitch.lon}\n",
    "\n",
    "data lat max: {y_max} -> result lat min: {tertiary_lat_max}\n",
    "remainder: {tertiary_lat_max % tertiary_pitch.lat}\n",
    "\"\"\")"
   ]
  },
  {
   "cell_type": "markdown",
   "metadata": {},
   "source": [
    "全て正しく計算されており、経緯度の間隔で割り切れる座標である事が確認出来ました。\n",
    "<br>\n",
    "\n",
    "## **GridMeshの作成**\n",
    "\n",
    "ここまでで各メッシュ間隔とメッシュを投影する範囲の計算を行ってきました。次は前回の記事と同様に範囲内のMeshGridの座標を計算していきます。本来であれば地域メッシュのメッシュコードは左下から始まるのですが、Geometryの生成には関係ないので、今回も左上から生成される様にします。"
   ]
  },
  {
   "cell_type": "code",
   "execution_count": 14,
   "metadata": {},
   "outputs": [],
   "source": [
    "class Corners(NamedTuple):\n",
    "    upper_left_corner: np.ndarray[float]\n",
    "    upper_right_corner: np.ndarray[float]\n",
    "    lower_left_corner: np.ndarray[float]\n",
    "    lower_right_corner: np.ndarray[float]\n",
    "\n",
    "\n",
    "def corners(coords_2d):\n",
    "    # 左上の座標を格納した1次元配列\n",
    "    ul = coords_2d[: - 1, : -1].flatten()\n",
    "    # 右上の座標を格納した1次元配列\n",
    "    ur = coords_2d[: -1, 1: ].flatten()\n",
    "    # 左下の座標を格納した1次元配列\n",
    "    ll = coords_2d[1: , : -1].flatten()\n",
    "    # 右下の座標を格納した1次元配列\n",
    "    lr = coords_2d[1: , 1:].flatten()\n",
    "    return Corners(ul, ur, ll, lr)\n",
    "\n",
    "\n",
    "def decimal_to_float(value, digits=9):\n",
    "    exp = Decimal('1.' + '0' * digits)\n",
    "    value = (\n",
    "        round(value, digits + 1)\n",
    "        .quantize(exp, rounding=ROUND_FLOOR)\n",
    "    )\n",
    "    return float(value)\n",
    "\n",
    "\n",
    "def generate_grid(x_2d: np.ndarray, y_2d: np.ndarray):\n",
    "    X = corners(x_2d)\n",
    "    Y = corners(y_2d)\n",
    "    polys = []\n",
    "    X_min = X.upper_left_corner\n",
    "    X_max = X.upper_right_corner\n",
    "    Y_min = Y.lower_left_corner\n",
    "    Y_max = Y.upper_left_corner\n",
    "    for coords in zip(X_min, Y_min, X_max, Y_max):\n",
    "        poly = shapely.box(*[decimal_to_float(c) for c in coords])\n",
    "        polys.append(poly)\n",
    "    return polys\n",
    "\n",
    "\n",
    "xs = np.arange(\n",
    "    tertiary_lon_min, \n",
    "    tertiary_lon_max + tertiary_pitch.lon, \n",
    "    tertiary_pitch.lon\n",
    ")\n",
    "ys = np.arange(\n",
    "    tertiary_lat_min, \n",
    "    tertiary_lat_max + tertiary_pitch.lat, \n",
    "    tertiary_pitch.lat\n",
    ")[::-1]\n",
    "\n",
    "x_2d, y_2d = np.meshgrid(xs, ys)\n",
    "meshgrid = generate_grid(x_2d, y_2d)\n"
   ]
  },
  {
   "cell_type": "markdown",
   "metadata": {},
   "source": [
    "可視化して Polygon 同士が接しているのかを検証してみましょう。"
   ]
  },
  {
   "cell_type": "code",
   "execution_count": 15,
   "metadata": {},
   "outputs": [
    {
     "data": {
      "image/png": "[encoded data removed]",
      "text/plain": [
       "<Figure size 640x480 with 1 Axes>"
      ]
     },
     "metadata": {},
     "output_type": "display_data"
    }
   ],
   "source": [
    "kwargs = dict(\n",
    "    horizontalalignment='center',\n",
    "    verticalalignment='center'\n",
    ")\n",
    "\n",
    "geoms = gpd.GeoSeries(meshgrid)\n",
    "\n",
    "fig, ax = plt.subplots()\n",
    "for i, poly in enumerate(meshgrid):\n",
    "    plot_polygon(poly, ax, False, 'black', lw=0.5)\n",
    "    pt = poly.centroid\n",
    "    # 点または辺を共有しているPolygonをカウント\n",
    "    length = geoms[geoms.touches(poly)].shape[0]\n",
    "    ax.text(pt.x, pt.y, length, **kwargs)\n",
    "ax.set_title('MeshGrid', fontsize=15)\n",
    "ax.axis('equal');"
   ]
  },
  {
   "cell_type": "markdown",
   "metadata": {},
   "source": [
    "## **参考**\n",
    "\n",
    "[地域メッシュ統計の概要](https://www.stat.go.jp/data/mesh/gaiyou.html)\n",
    "\n",
    "[decimal](https://docs.python.org/ja/3/library/decimal.html#decimal.Decimal.quantize)"
   ]
  },
  {
   "cell_type": "markdown",
   "metadata": {},
   "source": []
  }
 ],
 "metadata": {
  "kernelspec": {
   "display_name": "geome",
   "language": "python",
   "name": "python3"
  },
  "language_info": {
   "codemirror_mode": {
    "name": "ipython",
    "version": 3
   },
   "file_extension": ".py",
   "mimetype": "text/x-python",
   "name": "python",
   "nbconvert_exporter": "python",
   "pygments_lexer": "ipython3",
   "version": "3.11.9"
  }
 },
 "nbformat": 4,
 "nbformat_minor": 2
}
