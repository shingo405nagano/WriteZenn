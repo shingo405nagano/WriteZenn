{
 "cells": [
  {
   "cell_type": "markdown",
   "metadata": {},
   "source": [
    "# **GIS × Python Tutorial 8.1 ~スタイル定義済みKMLの作成~**\n",
    "\n",
    "<br>\n",
    "\n",
    "## **はじめに**\n",
    "この記事は「GIS × Python Tutorial」の関連記事です。\n",
    "\n",
    "今回の`8.x`では `GeoPandas.GeoDataFrame`のクラスを拡張して、スタイルを定義したKMLを出力する新たなクラスを作成してみたいと思います。GeoDataFrame ではすでに `GeoDataFrame.to_file` で KML を出力する事が可能ですが、せっかく自由度が高い KML を使用するのであれば、スタイルを定義して KML を出力したいと思いこの記事を書いています。\n",
    "\n",
    "チュートリアルは以下の順番で進んで行きます。\n",
    "\n",
    " - [8.1] fastkml での KML 作成\n",
    "\n",
    " - [8.2] GeoDataFrame の継承と独自メソッドの追加\n",
    "\n",
    "本来であれば、様々な Geometry に対応させるべきですが、今回は面倒なので Polygon | MultiPolygon に絞ってデータを作成していきます。"
   ]
  },
  {
   "cell_type": "code",
   "execution_count": 170,
   "metadata": {},
   "outputs": [],
   "source": [
    "from pprint import pprint\n",
    "\n",
    "import geopandas as gpd\n",
    "import fastkml\n",
    "import pyproj\n",
    "import pygeoif\n",
    "import shapely"
   ]
  },
  {
   "cell_type": "code",
   "execution_count": 171,
   "metadata": {},
   "outputs": [
    {
     "name": "stdout",
     "output_type": "stream",
     "text": [
      "<kml xmlns=\"http://www.opengis.net/kml/2.2\">\n",
      "  <Document id=\"learngis\">\n",
      "    <name>Learn GIS</name>\n",
      "    <description>Learn GIS</description>\n",
      "  </Document>\n",
      "</kml>\n",
      "\n"
     ]
    }
   ],
   "source": [
    "kml = fastkml.kml.KML()\n",
    "\n",
    "# Add document.\n",
    "doc = fastkml.kml.Document(id='learngis', name='Learn GIS', description='Learn GIS')\n",
    "kml.append(doc)\n",
    "print(kml.to_string(prettyprint=True))"
   ]
  },
  {
   "cell_type": "markdown",
   "metadata": {},
   "source": [
    "### Styling"
   ]
  },
  {
   "cell_type": "code",
   "execution_count": 172,
   "metadata": {},
   "outputs": [
    {
     "name": "stdout",
     "output_type": "stream",
     "text": [
      "<kml:IconStyle xmlns:kml=\"http://www.opengis.net/kml/2.2\">\n",
      "  <kml:color>ff0000ff</kml:color>\n",
      "  <kml:Icon>\n",
      "    <kml:href>http://maps.google.com/mapfiles/kml/paddle/red-stars.png</kml:href>\n",
      "  </kml:Icon>\n",
      "</kml:IconStyle>\n",
      "\n"
     ]
    }
   ],
   "source": [
    "icon_style = fastkml.styles.IconStyle(\n",
    "    color='ff0000ff',\n",
    "    icon_href='http://maps.google.com/mapfiles/kml/paddle/red-stars.png'\n",
    ")\n",
    "print(icon_style.to_string(prettyprint=True))"
   ]
  },
  {
   "cell_type": "code",
   "execution_count": 173,
   "metadata": {},
   "outputs": [
    {
     "name": "stdout",
     "output_type": "stream",
     "text": [
      "<kml:Style xmlns:kml=\"http://www.opengis.net/kml/2.2\" id=\"sparselyPop\">\n",
      "  <kml:IconStyle>\n",
      "    <kml:color>ff0000ff</kml:color>\n",
      "    <kml:Icon>\n",
      "      <kml:href>http://maps.google.com/mapfiles/kml/paddle/red-stars.png</kml:href>\n",
      "    </kml:Icon>\n",
      "  </kml:IconStyle>\n",
      "</kml:Style>\n",
      "\n"
     ]
    }
   ],
   "source": [
    "sparsely_style = fastkml.styles.Style(id='sparselyPop', styles=[icon_style])\n",
    "\n",
    "print(sparsely_style.to_string(prettyprint=True))"
   ]
  },
  {
   "cell_type": "markdown",
   "metadata": {},
   "source": [
    "### Create folder "
   ]
  },
  {
   "cell_type": "code",
   "execution_count": 174,
   "metadata": {},
   "outputs": [
    {
     "name": "stdout",
     "output_type": "stream",
     "text": [
      "<kml:Folder xmlns:kml=\"http://www.opengis.net/kml/2.2\" id=\"prefecture\">\n",
      "  <kml:name>Prefecture</kml:name>\n",
      "  <kml:description>Prefectures</kml:description>\n",
      "  <kml:Style id=\"sparselyPop\">\n",
      "    <kml:IconStyle>\n",
      "      <kml:color>ff0000ff</kml:color>\n",
      "      <kml:Icon>\n",
      "        <kml:href>http://maps.google.com/mapfiles/kml/paddle/red-stars.png</kml:href>\n",
      "      </kml:Icon>\n",
      "    </kml:IconStyle>\n",
      "  </kml:Style>\n",
      "</kml:Folder>\n",
      "\n"
     ]
    }
   ],
   "source": [
    "# Add folder.\n",
    "folder = fastkml.kml.Folder(id='prefecture', name='Prefecture', description='Prefectures')\n",
    "folder.append(sparsely_style)\n",
    "\n",
    "print(folder.to_string(prettyprint=True))"
   ]
  },
  {
   "cell_type": "markdown",
   "metadata": {},
   "source": [
    "### Extended data"
   ]
  },
  {
   "cell_type": "code",
   "execution_count": 175,
   "metadata": {},
   "outputs": [
    {
     "name": "stdout",
     "output_type": "stream",
     "text": [
      "<kml:ExtendedData xmlns:kml=\"http://www.opengis.net/kml/2.2\">\n",
      "  <kml:Data name=\"prefecture\">\n",
      "    <kml:value>Aomori</kml:value>\n",
      "  </kml:Data>\n",
      "  <kml:Data name=\"population\">\n",
      "    <kml:value>118.8</kml:value>\n",
      "  </kml:Data>\n",
      "</kml:ExtendedData>\n",
      "\n"
     ]
    }
   ],
   "source": [
    "data = [\n",
    "    fastkml.data.Data(name='prefecture', value='Aomori'),\n",
    "    fastkml.data.Data(name='population', value='118.8'),\n",
    "]\n",
    "extended_data = fastkml.data.ExtendedData(elements=data)\n",
    "\n",
    "print(extended_data.to_string(prettyprint=True))"
   ]
  },
  {
   "cell_type": "markdown",
   "metadata": {},
   "source": [
    "### Placemark"
   ]
  },
  {
   "cell_type": "code",
   "execution_count": 176,
   "metadata": {},
   "outputs": [
    {
     "name": "stdout",
     "output_type": "stream",
     "text": [
      "type: <class 'pygeoif.geometry.Point'>, geometry: POINT (140.0 40.0)\n"
     ]
    }
   ],
   "source": [
    "# shapely.geometry -> pygeoif.geometry\n",
    "shapely_pnt = shapely.geometry.Point(140.000, 40.000)\n",
    "pygeoif_pnt = pygeoif.shape(shapely_pnt)\n",
    "print(f\"type: {type(pygeoif_pnt)}, geometry: {pygeoif_pnt}\")"
   ]
  },
  {
   "cell_type": "code",
   "execution_count": 177,
   "metadata": {},
   "outputs": [
    {
     "name": "stdout",
     "output_type": "stream",
     "text": [
      "<kml:Placemark xmlns:kml=\"http://www.opengis.net/kml/2.2\" id=\"1\">\n",
      "  <kml:name>Aomori</kml:name>\n",
      "  <kml:styleUrl>#sparselyPop</kml:styleUrl>\n",
      "  <kml:ExtendedData>\n",
      "    <kml:Data name=\"prefecture\">\n",
      "      <kml:value>Aomori</kml:value>\n",
      "    </kml:Data>\n",
      "    <kml:Data name=\"population\">\n",
      "      <kml:value>118.8</kml:value>\n",
      "    </kml:Data>\n",
      "  </kml:ExtendedData>\n",
      "  <kml:Point>\n",
      "    <kml:coordinates>140.0,40.0</kml:coordinates>\n",
      "  </kml:Point>\n",
      "</kml:Placemark>\n",
      "\n"
     ]
    }
   ],
   "source": [
    "placemark = fastkml.features.Placemark(\n",
    "    id='1',\n",
    "    name='Aomori',\n",
    "    geometry=pygeoif_pnt,\n",
    "    extended_data=extended_data,\n",
    "    style_url=fastkml.styles.StyleUrl(url=f\"#{sparsely_style.id}\")\n",
    ")\n",
    "print(placemark.to_string(prettyprint=True))"
   ]
  },
  {
   "cell_type": "code",
   "execution_count": 178,
   "metadata": {},
   "outputs": [
    {
     "name": "stdout",
     "output_type": "stream",
     "text": [
      "<kml xmlns=\"http://www.opengis.net/kml/2.2\">\n",
      "    <Document id=\"learngis\">\n",
      "        <name>Learn GIS</name>\n",
      "        <description>Learn GIS</description>\n",
      "        <Folder id=\"prefecture\">\n",
      "            <name>Prefecture</name>\n",
      "            <description>Prefectures</description>\n",
      "            <Style id=\"sparselyPop\">\n",
      "                <IconStyle>\n",
      "                    <color>ff0000ff</color>\n",
      "                    <Icon>\n",
      "                        <href>http://maps.google.com/mapfiles/kml/paddle/red-stars.png</href>\n",
      "                    </Icon>\n",
      "                </IconStyle>\n",
      "            </Style>\n",
      "            <Placemark id=\"1\">\n",
      "                <name>Aomori</name>\n",
      "                <styleUrl>#sparselyPop</styleUrl>\n",
      "                <ExtendedData>\n",
      "                    <Data name=\"prefecture\">\n",
      "                        <value>Aomori</value>\n",
      "                    </Data>\n",
      "                    <Data name=\"population\">\n",
      "                        <value>118.8</value>\n",
      "                    </Data>\n",
      "                </ExtendedData>\n",
      "                <Point>\n",
      "                    <coordinates>140.0,40.0</coordinates>\n",
      "                </Point>\n",
      "            </Placemark>\n",
      "        </Folder>\n",
      "    </Document>\n",
      "</kml>\n",
      "\n"
     ]
    }
   ],
   "source": [
    "folder.append(placemark)\n",
    "doc.append(folder)\n",
    "print(kml.to_string(prettyprint=True).replace('  ', '    '))"
   ]
  },
  {
   "cell_type": "code",
   "execution_count": null,
   "metadata": {},
   "outputs": [],
   "source": []
  },
  {
   "cell_type": "code",
   "execution_count": null,
   "metadata": {},
   "outputs": [],
   "source": []
  },
  {
   "cell_type": "code",
   "execution_count": null,
   "metadata": {},
   "outputs": [],
   "source": []
  }
 ],
 "metadata": {
  "kernelspec": {
   "display_name": "geome",
   "language": "python",
   "name": "python3"
  },
  "language_info": {
   "codemirror_mode": {
    "name": "ipython",
    "version": 3
   },
   "file_extension": ".py",
   "mimetype": "text/x-python",
   "name": "python",
   "nbconvert_exporter": "python",
   "pygments_lexer": "ipython3",
   "version": "3.11.9"
  }
 },
 "nbformat": 4,
 "nbformat_minor": 2
}
