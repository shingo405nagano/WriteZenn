{
 "cells": [
  {
   "cell_type": "markdown",
   "metadata": {},
   "source": [
    "# **GIS × Python Tutorial 5.3 ~ 空間検索の為の材料作成 MeshGrid編 ~**\n",
    "\n",
    "<br>\n",
    "\n",
    "## **はじめに**\n",
    "この記事は「GIS × Python Tutorial」の関連記事です。\n",
    "\n",
    "前回の記事では`geopandas`の空間検索メソッドについて紹介しました。geopandas で空間検索を行う場合、例えばある市町村内にあるコンビニの位置を分析するとして、市町村内をいくつかのブロックに分けたり、あるいはグリッドやH3の様なポリゴンメッシュを使用したくなるかもしれません。今回はそんな空間検索で使用する材料作成に焦点をあてて紹介していきます。\n",
    "\n",
    "<br>\n",
    "\n",
    "## **コード実行の準備**\n",
    "\n",
    "### **Import**"
   ]
  },
  {
   "cell_type": "code",
   "execution_count": 1,
   "metadata": {},
   "outputs": [],
   "source": [
    "import math\n",
    "import string\n",
    "from typing import NamedTuple, List\n",
    "\n",
    "import geopandas as gpd\n",
    "import japanize_matplotlib\n",
    "from matplotlib import pyplot as plt\n",
    "import numpy as np\n",
    "import shapely\n",
    "import shapely.affinity\n",
    "from shapely.plotting import plot_points\n",
    "from shapely.plotting import plot_polygon\n",
    "japanize_matplotlib.japanize()\n",
    "# plt.style.use('ggplot')"
   ]
  },
  {
   "cell_type": "markdown",
   "metadata": {},
   "source": [
    "<br>\n",
    "\n",
    "## **Mesh Grid の作成**\n",
    "\n",
    "メッシュグリッドは四角形の集合です。四角形は「左上のXY」「右上のXY」「右下のXY」「左下のXY」の 4つの座標 8つの数値から構成されます。`shapely.box(x_min, y_min, x_max, y_max)`で作成できるので実際は 4つの数値で作成可能です。\n",
    "\n",
    "\n",
    "\n",
    "## **範囲の調整**\n",
    "まずは MeshGrid の範囲を計算する関数を作成してみましょう。左上を始点として右方向と下方向に向けて範囲を計算します。解像度を指定するのでほとんどの場合が割切れません。小さくするのは論外なので、大きく範囲を広げる事で対応しましょう。"
   ]
  },
  {
   "cell_type": "code",
   "execution_count": 2,
   "metadata": {},
   "outputs": [
    {
     "name": "stdout",
     "output_type": "stream",
     "text": [
      "\n",
      "x_min: -20, x_max: 120, width: 140, cells: 7.0\n",
      "y_min: 14, y_max: 126, height: 112, cells: 7.0\n",
      "\n"
     ]
    }
   ],
   "source": [
    "def max_coordinates(min_: float, max_: float, resolution: float) -> float:\n",
    "    # 剰余を計算する\n",
    "    _, remainder = divmod(abs(max_ - min_), resolution)\n",
    "    if 0 < remainder:\n",
    "        # 剰余が出た場合は範囲を拡大させる\n",
    "        max_ += resolution - remainder\n",
    "    return max_\n",
    "\n",
    "\n",
    "# 範囲を定義する\n",
    "x_min, x_max = -20, 106\n",
    "x_resol = 20\n",
    "\n",
    "y_min, y_max = 14, 111\n",
    "y_resol = 16\n",
    "\n",
    "# 範囲を調整する\n",
    "x_max = max_coordinates(x_min, x_max, x_resol)\n",
    "y_max = max_coordinates(y_min, y_max, y_resol)\n",
    "\n",
    "width = abs(x_max - x_min)\n",
    "height = abs(y_max - y_min)\n",
    "print(f\"\"\"\n",
    "x_min: {x_min}, x_max: {x_max}, width: {width}, cells: {width / x_resol}\n",
    "y_min: {y_min}, y_max: {y_max}, height: {height}, cells: {height / y_resol}\n",
    "\"\"\")"
   ]
  },
  {
   "cell_type": "markdown",
   "metadata": {},
   "source": [
    "## **MeshGridに使用する左上の座標を計算する**\n",
    "\n",
    "\n",
    "`numpy.arange(最小座標, 最大座標, 解像度)`で xy 座標の配列を作成してみます。x 座標は左から右へ向かうので`np.arange(x_min, y_min, resolution)`で問題ありませんが、y 座標は上から下へ向かわせたいので`np.arange(y_min, y_max, resolution)[::-1]`として降順にソートします。"
   ]
  },
  {
   "cell_type": "code",
   "execution_count": 3,
   "metadata": {},
   "outputs": [
    {
     "name": "stdout",
     "output_type": "stream",
     "text": [
      "xs: [-20   0  20  40  60  80 100 120]\n",
      "ys: [126 110  94  78  62  46  30  14]\n"
     ]
    }
   ],
   "source": [
    "xs = np.arange(x_min, x_max + x_resol, x_resol)\n",
    "ys = np.arange(y_min, y_max + y_resol, y_resol)[::-1]\n",
    "print(f\"xs: {xs}\")\n",
    "print(f\"ys: {ys}\")"
   ]
  },
  {
   "cell_type": "markdown",
   "metadata": {},
   "source": [
    "numpyには`np.meshgrid`という便利なメソッドが用意されています。x と y それぞれの 1次元配列を渡す事でそれぞれの MeshGrid を形成する 2次元配列で返してくれます。"
   ]
  },
  {
   "cell_type": "code",
   "execution_count": 16,
   "metadata": {},
   "outputs": [
    {
     "name": "stdout",
     "output_type": "stream",
     "text": [
      "\n",
      "x meshgrid: \n",
      "[[-20   0  20  40  60  80 100 120]\n",
      " [-20   0  20  40  60  80 100 120]\n",
      " [-20   0  20  40  60  80 100 120]\n",
      " [-20   0  20  40  60  80 100 120]\n",
      " [-20   0  20  40  60  80 100 120]\n",
      " [-20   0  20  40  60  80 100 120]\n",
      " [-20   0  20  40  60  80 100 120]\n",
      " [-20   0  20  40  60  80 100 120]]\n",
      "\n",
      "y meshgrid: \n",
      "[[126 126 126 126 126 126 126 126]\n",
      " [110 110 110 110 110 110 110 110]\n",
      " [ 94  94  94  94  94  94  94  94]\n",
      " [ 78  78  78  78  78  78  78  78]\n",
      " [ 62  62  62  62  62  62  62  62]\n",
      " [ 46  46  46  46  46  46  46  46]\n",
      " [ 30  30  30  30  30  30  30  30]\n",
      " [ 14  14  14  14  14  14  14  14]]\n",
      "\n",
      "\n"
     ]
    }
   ],
   "source": [
    "x_2d, y_2d = np.meshgrid(xs, ys)\n",
    "print(f\"\"\"\n",
    "x meshgrid: \\n{x_2d}\\n\n",
    "y meshgrid: \\n{y_2d}\\n\n",
    "\"\"\")"
   ]
  },
  {
   "cell_type": "markdown",
   "metadata": {},
   "source": [
    "## **MeshGridを構成する四隅の座標を作成する**\n",
    "\n",
    "2次元配列からスライスして値を取り出し、各 Polygon を構成する四隅の座標を作成します。作成したら計算をわかりやすくする為に 1次元配列に変換してしまいましょう。"
   ]
  },
  {
   "cell_type": "code",
   "execution_count": 5,
   "metadata": {},
   "outputs": [],
   "source": [
    "# わかりやすい様にNamedTupleのクラスを作成しておきます\n",
    "class Corners(NamedTuple):\n",
    "    upper_left_corner: np.ndarray[float]\n",
    "    upper_right_corner: np.ndarray[float]\n",
    "    lower_left_corner: np.ndarray[float]\n",
    "    lower_right_corner: np.ndarray[float]\n",
    "\n",
    "\n",
    "def corners(coords_2d):\n",
    "    # 左上の座標を格納した1次元配列\n",
    "    ul = coords_2d[: - 1, : -1].flatten()\n",
    "    # 右上の座標を格納した1次元配列\n",
    "    ur = coords_2d[: -1, 1: ].flatten()\n",
    "    # 左下の座標を格納した1次元配列\n",
    "    ll = coords_2d[1: , : -1].flatten()\n",
    "    # 右下の座標を格納した1次元配列\n",
    "    lr = coords_2d[1: , 1:].flatten()\n",
    "    return Corners(ul, ur, ll, lr)\n",
    "\n",
    "\n",
    "X = corners(x_2d)\n",
    "Y = corners(y_2d)"
   ]
  },
  {
   "cell_type": "markdown",
   "metadata": {},
   "source": [
    "## **shapely.Polygonを構成する**\n",
    "\n",
    "全ての座標を計算し終えたので、実際に`shapely.Polygon`を作成して可視化してみましょう。今回のように四角形の Polygon を作成する場合`shapely.box(x_min, y_min, x_max, y_max)`のメソッドを使用する方が簡単で分かりやすいです。"
   ]
  },
  {
   "cell_type": "code",
   "execution_count": 9,
   "metadata": {},
   "outputs": [
    {
     "data": {
      "image/png": "[encoded data removed]",
      "text/plain": [
       "<Figure size 640x480 with 1 Axes>"
      ]
     },
     "metadata": {},
     "output_type": "display_data"
    }
   ],
   "source": [
    "def generate_grid(x_2d: np.ndarray, y_2d: np.ndarray):\n",
    "    X = corners(x_2d)\n",
    "    Y = corners(y_2d)\n",
    "    polys = []\n",
    "    X_min = X.upper_left_corner\n",
    "    X_max = X.upper_right_corner\n",
    "    Y_min = Y.lower_left_corner\n",
    "    Y_max = Y.upper_left_corner\n",
    "    for coords in zip(X_min, Y_min, X_max, Y_max):\n",
    "        poly = shapely.box(*coords)\n",
    "        polys.append(poly)\n",
    "    return polys\n",
    "\n",
    "\n",
    "# MeshGridを構成する\n",
    "meshgrid = generate_grid(x_2d, y_2d)\n",
    "\n",
    "# 可視化\n",
    "kwargs = dict(\n",
    "    horizontalalignment='center',\n",
    "    verticalalignment='center'\n",
    ")\n",
    "fig, ax = plt.subplots()\n",
    "for i, poly in enumerate(meshgrid):\n",
    "    plot_polygon(poly, ax, False, 'black', lw=0.5)\n",
    "    pt = poly.centroid\n",
    "    ax.text(pt.x, pt.y, i, **kwargs)\n",
    "ax.set_title('MeshGrid', fontsize=15)\n",
    "ax.axis('equal');"
   ]
  },
  {
   "cell_type": "markdown",
   "metadata": {},
   "source": [
    "## **ID の作成**\n",
    "ここまでで MeshGrid を構成する Polygon を作成する事が出来ました。しかしこのまま利用するよりも、せっかくなので各 Polygon にIDを付与して`geopandas.GeoDataFrame`に格納しましょう。\n",
    "\n",
    "ID の作り方は色々あると思いますが、今回は簡単に Y 方向はアルファベット、X 方向は数値で表現します。順番は左上から右下に向かって ID が進むように計算を行いましょう。"
   ]
  },
  {
   "cell_type": "code",
   "execution_count": 10,
   "metadata": {},
   "outputs": [],
   "source": [
    "def alphabet_list(lower: bool=False):\n",
    "    \"\"\"アルファベットの格納されているリストを作成する\"\"\"\n",
    "    if lower:\n",
    "        return [a for a in string.ascii_lowercase]\n",
    "    return [a for a in string.ascii_uppercase]\n",
    "\n",
    "\n",
    "def alphabet_ids(length: int, lower_case: bool=False) -> List[str]:\n",
    "    \"\"\"アルファベットIDのリストを生成\"\"\"\n",
    "    alphabet = alphabet_list(lower_case)\n",
    "    ids = []\n",
    "    count = 0\n",
    "    cols = 1\n",
    "    while True:\n",
    "        if count == length:\n",
    "            # 生成したIDの数がlengthと同じ数値になれば終了する\n",
    "            break\n",
    "        if not alphabet:\n",
    "            # アルファベットのListが空になったらまた作成する\n",
    "            alphabet = alphabet_list(lower_case)\n",
    "            cols += 1\n",
    "        # Zを超える度に文字数を増やす\n",
    "        id_ = alphabet.pop(0) * cols\n",
    "        ids.append(id_)\n",
    "        count += 1\n",
    "    return ids\n",
    "\n",
    "\n",
    "def generate_id(height: int, width: int, alphabet: bool=True) -> List[str]:\n",
    "    \"\"\"IDの生成を行う\"\"\"\n",
    "    if alphabet:\n",
    "        left = alphabet_ids(height)\n",
    "    else:\n",
    "        left = np.arange(0, height).astype(str)\n",
    "    \n",
    "    right = np.arange(0, width).astype(str)\n",
    "    lefts, rights = np.meshgrid(left, right)\n",
    "    ids = [f\"{l}-{r}\" for l, r in zip(lefts.T.flatten(), rights.T.flatten())]\n",
    "    return ids"
   ]
  },
  {
   "cell_type": "code",
   "execution_count": 11,
   "metadata": {},
   "outputs": [
    {
     "data": {
      "image/png": "[encoded data removed]",
      "text/plain": [
       "<Figure size 640x480 with 1 Axes>"
      ]
     },
     "metadata": {},
     "output_type": "display_data"
    }
   ],
   "source": [
    "# IDの作成\n",
    "ids = generate_id(*[v-1 for v in x_2d.shape])\n",
    "\n",
    "# 可視化\n",
    "kwargs = dict(\n",
    "    horizontalalignment='center',\n",
    "    verticalalignment='center'\n",
    ")\n",
    "fig, ax = plt.subplots()\n",
    "for poly, id_ in zip(meshgrid, ids):\n",
    "    plot_polygon(poly, ax, False, 'black', lw=0.5)\n",
    "    pt = poly.centroid\n",
    "    ax.text(pt.x, pt.y, id_, **kwargs)\n",
    "ax.set_title('MeshGrid', fontsize=15)\n",
    "ax.axis('equal');"
   ]
  },
  {
   "cell_type": "markdown",
   "metadata": {},
   "source": [
    "## **GeoDataFrameへの入力**"
   ]
  },
  {
   "cell_type": "code",
   "execution_count": 15,
   "metadata": {},
   "outputs": [
    {
     "name": "stdout",
     "output_type": "stream",
     "text": [
      "|    |   idx | ID   | geometry                                                |\n",
      "|---:|------:|:-----|:--------------------------------------------------------|\n",
      "|  0 |     0 | A-0  | POLYGON ((0 110, 0 126, -20 126, -20 110, 0 110))       |\n",
      "|  1 |     1 | A-1  | POLYGON ((20 110, 20 126, 0 126, 0 110, 20 110))        |\n",
      "|  2 |     2 | A-2  | POLYGON ((40 110, 40 126, 20 126, 20 110, 40 110))      |\n",
      "|  3 |     3 | A-3  | POLYGON ((60 110, 60 126, 40 126, 40 110, 60 110))      |\n",
      "|  4 |     4 | A-4  | POLYGON ((80 110, 80 126, 60 126, 60 110, 80 110))      |\n",
      "|  5 |     5 | A-5  | POLYGON ((100 110, 100 126, 80 126, 80 110, 100 110))   |\n",
      "|  6 |     6 | A-6  | POLYGON ((120 110, 120 126, 100 126, 100 110, 120 110)) |\n",
      "|  7 |     7 | B-0  | POLYGON ((0 94, 0 110, -20 110, -20 94, 0 94))          |\n",
      "|  8 |     8 | B-1  | POLYGON ((20 94, 20 110, 0 110, 0 94, 20 94))           |\n",
      "|  9 |     9 | B-2  | POLYGON ((40 94, 40 110, 20 110, 20 94, 40 94))         |\n"
     ]
    }
   ],
   "source": [
    "gdf = gpd.GeoDataFrame(\n",
    "    data={\n",
    "        'idx': np.arange(0, len(meshgrid)),\n",
    "        'ID': ids,\n",
    "    },\n",
    "    geometry=meshgrid\n",
    ")\n",
    "\n",
    "print(gdf.head(10).to_markdown())"
   ]
  }
 ],
 "metadata": {
  "kernelspec": {
   "display_name": "lidar",
   "language": "python",
   "name": "python3"
  },
  "language_info": {
   "codemirror_mode": {
    "name": "ipython",
    "version": 3
   },
   "file_extension": ".py",
   "mimetype": "text/x-python",
   "name": "python",
   "nbconvert_exporter": "python",
   "pygments_lexer": "ipython3",
   "version": "3.11.9"
  }
 },
 "nbformat": 4,
 "nbformat_minor": 2
}
