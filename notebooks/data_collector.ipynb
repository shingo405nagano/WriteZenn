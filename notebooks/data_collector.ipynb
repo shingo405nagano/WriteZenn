{
 "cells": [
  {
   "cell_type": "markdown",
   "metadata": {},
   "source": [
    "# **ArcGIS Python API でオープンデータを検索する**\n",
    "\n",
    "## はじめに\n",
    "\n",
    "みなさん GIS のデータはどの様に手に入れていますか？\n",
    "\n",
    "　最近はオープンデータも増え、そのデータも整備され使いやすくなってきていると思います。今回は GIS のデータの中でもいわゆるベクターデータに絞って話をしていきますが、例えば「GIS　オープンデータ」と検索すると以下の様ようなサイトが検索にヒットします。\n",
    "\n",
    "\n",
    " - [国土数値情報ダウンロードサイト（国土交通省）](https://nlftp.mlit.go.jp/ksj/)\n",
    "\n",
    " - [G空間情報センター（一般社団法人 社会基盤情報流通推進協議会）](https://front.geospatial.jp/)\n",
    "\n",
    " - [政府機関オープンデータポータル（esri Japan）](https://esrij-gov-japan.hub.arcgis.com/)\n",
    "\n",
    "\n",
    "　Python で GIS を扱う場合、データをいちいちローカルにダウンロードしてどうのこうのというのが面倒になる場合も多くあると思います。私自身業務では ArcGIS ユーザーなので、ポータルサイトに自社のデータを保存しており、ArcGIS Python API でデータを取得して処理する事も多いのですが、ArcGIS ではアカウントを持っていない方でも ArcGIS Python API を使用すれば一般に公開されているデータを取得可能な事を、ArcGISユーザー以外はあまり知られていないような気がします。\n",
    "\n",
    "　今回は ArcGIS Python API を使用して ArcGIS Online に一般公開されているデータを取得する方法を紹介したいと思います。ただし ArcGIS のアカウントが無ければ、実際に ArcGIS Online のコンテンツページを開いて検索するというような事は出来ない（多分？）と思いますので、検索も全て Python で行う事になります。「もっと詳しく見てみたいな」と思ったら ArcGIS を契約してみてもいいかもしれません。\n",
    "\n",
    "\n",
    "\n",
    "ArcGIS Python API は pip でも conda でもインストール可能なので好きな方法でインストールしてください。\n",
    "\n",
    "items:\n",
    "\n",
    "- 全国都道府県界データ2022 ... {rows: 47, cols: 9}\n",
    "\n",
    "- 全国市区町村界データ2022 ... {rows: 1906, cols: 16}\n",
    "\n",
    "- 平成27年 国勢調査 町丁・字等界 ... {rows: 218100, cols: 20}\n",
    "\n",
    "- 交通事故箇所（2022） ... {rows: 300819, cols: 58}"
   ]
  },
  {
   "cell_type": "markdown",
   "metadata": {},
   "source": [
    "## **アイテムの検索方法**\n",
    "アイテムの検索は `arcgis.GIS`のインスタンスを作成し `content.search`メソッドで行います。"
   ]
  },
  {
   "cell_type": "code",
   "execution_count": 1,
   "metadata": {},
   "outputs": [
    {
     "data": {
      "text/plain": [
       "[<Item title:\"【防災クロスビュー】全国都道府県界データ2022\" type:Feature Layer Collection owner:NIED_CRS@bosai>,\n",
       " <Item title:\"全国都道府県界データ2022\" type:Feature Layer Collection owner:Esri_JP_Content>]"
      ]
     },
     "execution_count": 1,
     "metadata": {},
     "output_type": "execute_result"
    }
   ],
   "source": [
    "import arcgis\n",
    "\n",
    "gis = arcgis.GIS()\n",
    "\n",
    "items = gis.content.search('title:都道府県界 2022')\n",
    "items"
   ]
  },
  {
   "cell_type": "markdown",
   "metadata": {},
   "source": [
    "アイテムがListに格納されているのでインデックスを指定して使用したいアイテムを取り出します。"
   ]
  },
  {
   "cell_type": "code",
   "execution_count": 2,
   "metadata": {},
   "outputs": [
    {
     "name": "stdout",
     "output_type": "stream",
     "text": [
      "<Item title:\"全国都道府県界データ2022\" type:Feature Layer Collection owner:Esri_JP_Content>\n"
     ]
    },
    {
     "data": {
      "text/html": [
       "<div class=\"item_container\" style=\"height: auto; overflow: hidden; border: 1px solid #cfcfcf; border-radius: 2px; background: #f6fafa; line-height: 1.21429em; padding: 10px;\">\n",
       "                    <div class=\"item_left\" style=\"width: 210px; float: left;\">\n",
       "                       <a href='https://www.arcgis.com/home/item.html?id=cee3b3f7ed4b4826a7dc5c074040ef2c' target='_blank'>\n",
       "                        <img src='https://www.arcgis.com/sharing/rest//content/items/cee3b3f7ed4b4826a7dc5c074040ef2c/info/thumbnail/thumbnail.png' class=\"itemThumbnail\">\n",
       "                       </a>\n",
       "                    </div>\n",
       "\n",
       "                    <div class=\"item_right\"     style=\"float: none; width: auto; overflow: hidden;\">\n",
       "                        <a href='https://www.arcgis.com/home/item.html?id=cee3b3f7ed4b4826a7dc5c074040ef2c' target='_blank'><b>全国都道府県界データ2022</b>\n",
       "                        </a>\n",
       "                        <br/>ESRIジャパンが無償で提供している全国都道府県界データ（2021 年 4 月 1 日時点）です。This layer shows prefecture level boundaries of Japan, as of April 1, 2021.<img src='https://www.arcgis.com/home/js/jsapi/esri/css/images/item_type_icons/featureshosted16.png' style=\"vertical-align:middle;\" width=16 height=16>Feature Layer Collection by Esri_JP_Content\n",
       "                        <br/>Last Modified: November 01, 2023\n",
       "                        <br/>0 comments, 80097 views\n",
       "                    </div>\n",
       "                </div>\n",
       "                "
      ],
      "text/plain": [
       "<Item title:\"全国都道府県界データ2022\" type:Feature Layer Collection owner:Esri_JP_Content>"
      ]
     },
     "execution_count": 2,
     "metadata": {},
     "output_type": "execute_result"
    }
   ],
   "source": [
    "item = items[1]\n",
    "print(item)\n",
    "item"
   ]
  },
  {
   "cell_type": "code",
   "execution_count": 4,
   "metadata": {},
   "outputs": [
    {
     "data": {
      "text/plain": [
       "'© Esri Japan'"
      ]
     },
     "execution_count": 4,
     "metadata": {},
     "output_type": "execute_result"
    }
   ],
   "source": [
    "item.accessInformation"
   ]
  },
  {
   "cell_type": "markdown",
   "metadata": {},
   "source": [
    "次にアイテムの`layers`メソッドでLayerを取得します。"
   ]
  },
  {
   "cell_type": "code",
   "execution_count": 77,
   "metadata": {},
   "outputs": [
    {
     "name": "stdout",
     "output_type": "stream",
     "text": [
      "[<FeatureLayer url:\"https://services.arcgis.com/wlVTGRSYTzAbjjiC/arcgis/rest/services/zenkokutodofukenkai/FeatureServer/0\">]\n"
     ]
    }
   ],
   "source": [
    "lyrs = item.layers\n",
    "print(lyrs)"
   ]
  },
  {
   "cell_type": "markdown",
   "metadata": {},
   "source": [
    "これにはLayerが一つしかないようです。\n",
    "\n",
    "`ArcGIS Python API`には geopandas のように GIS を pandas.DataFrame で扱う `Spatial Enebled DataFrame`が用意されています。アイテムから DataFrame を取り出す流れは以下の様になっています。\n",
    "\n",
    "1. arcgis.gis.GISのインスタンスを作成し、`.content.search`メソッドでアイテム検索を行う。\n",
    "    \n",
    "    - Returns:  List[arcgis.gis.Item]\n",
    "\n",
    "2. アイテムをListから取り出し、`.layers`メソッドでアイテム内の全てのLayerを取得。\n",
    "\n",
    "    - Returns: List[arcgis.features.FeatureLayer]\n",
    "\n",
    "3. LayerリストからLayerを取得\n",
    "\n",
    "4. Layer から FeatureSet を取得（ Query はこの段階で行う）\n",
    "\n",
    "    - Returns: arcgis.features.FeatureSet\n",
    "\n",
    "5. FeatureSet から `.sdf` メソッドで Spatial Enabled DataFrame を取得\n",
    "\n",
    "    - pandas.DataFrame\n",
    "\n",
    "それでは Layer から DataFrame を取り出してみましょう。"
   ]
  },
  {
   "cell_type": "code",
   "execution_count": 94,
   "metadata": {},
   "outputs": [
    {
     "name": "stdout",
     "output_type": "stream",
     "text": [
      "|    |   JCODE | KEN    | KEN_ENG   |            P_NUM |            H_NUM |\n",
      "|---:|--------:|:-------|:----------|-----------------:|-----------------:|\n",
      "|  0 |      01 | 北海道 | Hokkaido  |      5.22873e+06 |      2.79557e+06 |\n",
      "|  1 |      02 | 青森県 | Aomori    |      1.26007e+06 | 594459           |\n",
      "|  2 |      03 | 岩手県 | Iwate     |      1.2212e+06  | 530800           |\n",
      "|  3 |      04 | 宮城県 | Miyagi    |      2.28211e+06 |      1.01661e+06 |\n",
      "|  4 |      05 | 秋田県 | Akita     | 971604           | 425698           |\n"
     ]
    }
   ],
   "source": [
    "lyr = lyrs[0]\n",
    "feature_set = lyr.query()\n",
    "sdf = feature_set.sdf\n",
    "\n",
    "# 不要な列を知っているのでとりあえず消しておく\n",
    "\n",
    "del_cols = [\n",
    "    # 見やすい様に列を削除する。\n",
    "    'OBJECTID',\n",
    "    'Shape__Area',\n",
    "    'Shape__Length',\n",
    "    'SHAPE'\n",
    "]\n",
    "\n",
    "print(\n",
    "    sdf\n",
    "    .drop(del_cols, axis=1)\n",
    "    .head()\n",
    "    .to_markdown()\n",
    ")"
   ]
  },
  {
   "cell_type": "markdown",
   "metadata": {},
   "source": [
    "## **Queryの使い方①**"
   ]
  },
  {
   "cell_type": "code",
   "execution_count": 104,
   "metadata": {},
   "outputs": [
    {
     "name": "stdout",
     "output_type": "stream",
     "text": [
      "|    |   JCODE | KEN    | KEN_ENG   |       P_NUM |   H_NUM |\n",
      "|---:|--------:|:-------|:----------|------------:|--------:|\n",
      "|  0 |      02 | 青森県 | Aomori    | 1.26007e+06 |  594459 |\n"
     ]
    }
   ],
   "source": [
    "print(\n",
    "    lyr\n",
    "    .query(where=\"KEN = '青森県'\")\n",
    "    .sdf\n",
    "    .drop(del_cols, axis=1)\n",
    "    .head()\n",
    "    .to_markdown()\n",
    ")"
   ]
  },
  {
   "cell_type": "markdown",
   "metadata": {},
   "source": [
    "## **全国市区町村界データの取得とGeometryを使用したQuery**\n",
    "\n",
    "全国市区町村界のデータも公開されているので、ここから青森県内に含まれるデータを空間検索を使用してQueryしてみましょう。\n",
    "\n",
    "今回は検索が面倒なので、直接 Layer の URL を指定します。"
   ]
  },
  {
   "cell_type": "code",
   "execution_count": 174,
   "metadata": {},
   "outputs": [
    {
     "data": {
      "text/plain": [
       "<FeatureLayer url:\"https://services.arcgis.com/wlVTGRSYTzAbjjiC/arcgis/rest/services/TrafficAccident_2022/FeatureServer/0\">"
      ]
     },
     "execution_count": 174,
     "metadata": {},
     "output_type": "execute_result"
    }
   ],
   "source": [
    "url = (\n",
    "    'https://services.arcgis.com/wlVTGRSYTzAbjjiC/arcgis'\n",
    "    '/rest/services/TrafficAccident_2022/FeatureServer/0'\n",
    ")\n",
    "lyr = arcgis.features.FeatureLayer(url)\n",
    "lyr"
   ]
  },
  {
   "cell_type": "code",
   "execution_count": 185,
   "metadata": {},
   "outputs": [],
   "source": [
    "geom = selected_sdf['SHAPE'].iloc[0]"
   ]
  },
  {
   "cell_type": "code",
   "execution_count": 189,
   "metadata": {},
   "outputs": [],
   "source": [
    "from arcgis.geometry import filters\n",
    "filter_ = filters.intersects(geom)\n",
    "fset = lyr.query(geometry_filter=filter_)\n",
    "sdf = fset.sdf"
   ]
  },
  {
   "cell_type": "code",
   "execution_count": 200,
   "metadata": {},
   "outputs": [
    {
     "name": "stdout",
     "output_type": "stream",
     "text": [
      "|    |   都道府県コード |   警察署等コード |   警察署等 |   事故内容 |   死者数 |   負傷者数 |   路線コード |\n",
      "|---:|-----------------:|-----------------:|-----------:|-----------:|---------:|-----------:|-------------:|\n",
      "|  0 |               20 |              102 |      20102 |          1 |        1 |          0 |        10150 |\n",
      "|  1 |               20 |              102 |      20102 |          2 |        0 |          1 |        30000 |\n",
      "|  2 |               20 |              102 |      20102 |          2 |        0 |          1 |        30000 |\n",
      "|  3 |               20 |              103 |      20103 |          2 |        0 |          2 |        10500 |\n",
      "|  4 |               20 |              109 |      20109 |          2 |        0 |          1 |        30000 |\n"
     ]
    }
   ],
   "source": [
    "print(sdf.iloc[:5, 3: 10].to_markdown())"
   ]
  },
  {
   "cell_type": "markdown",
   "metadata": {},
   "source": [
    "## GeoJSONとして出力する"
   ]
  },
  {
   "cell_type": "code",
   "execution_count": 207,
   "metadata": {},
   "outputs": [],
   "source": [
    "import json\n",
    "\n",
    "fp = './traffic_accident.geojson'\n",
    "with open(fp, mode='w') as file:\n",
    "    fset_result = sdf.spatial.to_featureset()\n",
    "    geojson_dict = json.loads(fset_result.to_geojson)\n",
    "    json.dump(geojson_dict, file, indent=2)\n"
   ]
  },
  {
   "cell_type": "code",
   "execution_count": null,
   "metadata": {},
   "outputs": [],
   "source": [
    "\n"
   ]
  }
 ],
 "metadata": {
  "kernelspec": {
   "display_name": "lidar",
   "language": "python",
   "name": "python3"
  },
  "language_info": {
   "codemirror_mode": {
    "name": "ipython",
    "version": 3
   },
   "file_extension": ".py",
   "mimetype": "text/x-python",
   "name": "python",
   "nbconvert_exporter": "python",
   "pygments_lexer": "ipython3",
   "version": "3.11.9"
  }
 },
 "nbformat": 4,
 "nbformat_minor": 2
}
