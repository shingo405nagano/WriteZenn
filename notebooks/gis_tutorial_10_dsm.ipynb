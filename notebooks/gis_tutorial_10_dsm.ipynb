{
 "cells": [
  {
   "cell_type": "markdown",
   "metadata": {},
   "source": [
    "# **GIS × Python Tutorial Session10 ~ DSMの作成とDCHMの作成 ~**\n",
    "---\n",
    "この記事は「GIS × Python Tutorial」の関連記事です。\n",
    "\n",
    "<br><br><br>\n",
    "\n",
    "\n",
    "\n",
    "## **はじめに**\n",
    "---\n",
    "\n",
    "\n",
    "<br><br><br>"
   ]
  },
  {
   "cell_type": "markdown",
   "metadata": {},
   "source": [
    " - DSMの作成\n",
    "    - 点群データの読み込み\n",
    "    - DSMの計算\n",
    "    - 可視化（DSMとDTMを並べる）\n",
    " - DCHMの作成\n",
    "    - DSMからDTMを引く方法\n",
    "    - PDALで点群データからDTMを引き、DSMを作成する方法\n",
    "    - 可視化（DCHM - DSM - DTMを並べる）"
   ]
  },
  {
   "cell_type": "code",
   "execution_count": 1,
   "metadata": {},
   "outputs": [],
   "source": [
    "import pdal\n",
    "import rasterio"
   ]
  },
  {
   "cell_type": "code",
   "execution_count": null,
   "metadata": {},
   "outputs": [],
   "source": []
  },
  {
   "cell_type": "code",
   "execution_count": null,
   "metadata": {},
   "outputs": [],
   "source": []
  }
 ],
 "metadata": {
  "kernelspec": {
   "display_name": "lidar",
   "language": "python",
   "name": "python3"
  },
  "language_info": {
   "codemirror_mode": {
    "name": "ipython",
    "version": 3
   },
   "file_extension": ".py",
   "mimetype": "text/x-python",
   "name": "python",
   "nbconvert_exporter": "python",
   "pygments_lexer": "ipython3",
   "version": "3.10.14"
  }
 },
 "nbformat": 4,
 "nbformat_minor": 2
}
