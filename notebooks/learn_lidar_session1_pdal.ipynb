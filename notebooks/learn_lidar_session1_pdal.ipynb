{
 "cells": [
  {
   "cell_type": "markdown",
   "metadata": {},
   "source": [
    "# **GIS × Python Tutorial Session6 ~ Lidarデータことはじめ ~**\n",
    "---\n",
    "この記事は「GIS × Python Tutorial」の関連記事です。\n",
    "\n",
    "<br><br><br>\n",
    "\n",
    "\n",
    "\n",
    "## **はじめに**\n",
    "---\n",
    "**`Lidar（Light Detection and Ranging、Laser Imaging Detection and Ranging）`** とは、レーザー（光）を用いて対象までの距離や性質を分析するものです。Lidarで取得したデータには 'x', 'y', 'z' 座標の他に '反射強度' などが含まれています。\n",
    "\n",
    "ドローンや航空機などで取得した3次元点群データは、詳細な地形や地物の把握などに使用されており、目にする機会が増えて来た様に思います。実際にこの記事を書いている私自身、仕事で少し触る機会があり、この記事を書くきっかけにもなりました。\n",
    "\n",
    "この題材も少し長くなりそうなので、複数に記事を分けて書きますが、今回ははじめの一歩という事で以下の項目について解説します。\n",
    "\n",
    " - 点群データ処理のライブラリー\n",
    "\n",
    " - 今回使用するデータ\n",
    "\n",
    " - '.las'ファイルの読み込みと概要の確認\n",
    " \n",
    " - データ範囲の確認\n",
    "\n",
    " - 空間参照系の定義\n",
    "\n",
    " - 点群データのビジュアライズ\n",
    "\n",
    " - 外れ値の除去\n",
    "\n",
    " - 新たなファイルへの書き込み\n",
    "\n",
    "<br><br><br>\n",
    "\n",
    "\n",
    "\n",
    "## **点群データ処理のライブラリー**\n",
    "---\n",
    "今回、点群データを処理するライブラリーとして、 **`PDAL（Point Data Abstraction Library）`** を使用します。PDALはCLIで操作する方が一般的かもしれませんが、今回はPython APIを使用して、Notebook内で完結させます。\n",
    "\n",
    "PDALは、点群データを変換および操作する為のC++のライブラリーです。PDALは様々なフォーマットのデータを読み書きする事が可能であり、ラスターデータとして出力する事もできます。\n",
    "\n",
    "PDALは処理の流れを \"Pipeline\" として記述する事で、'読み込み' -> 'データ処理' -> '書き込み' というワークフローを作成し実行します。\n",
    "\n",
    "PDALをPythonの環境にインストールするには \"Anaconda\" を使用するのが簡単です。個人的な経験上では、GIS系のライブラリーは喧嘩する事が多く、今回は \"pyproj\" あたりと喧嘩しているようで、なんとか作成したyamlファイルをGitHubに公開してあるので、そちらを使用してください。GoogleColabでのインストール方法もGitHubに載せておきます。\n",
    "\n",
    "<br><br><br>\n",
    "\n",
    "\n",
    "\n",
    "## **今回使用するデータ**\n",
    "---\n",
    "今回は \"オープンナガサキ\" からダウンロードした '.las' データを使用します。グリッドのIDは \"01ID7913\" です。空間参照系は「世界測地系(JGD2011)／平面直角座標系第1系（EPSG: 6669）」を使用しているようです。\n",
    "\n",
    "<br><br><br>\n",
    "\n",
    "\n",
    "\n",
    "## **Import modules.**\n",
    "---"
   ]
  },
  {
   "cell_type": "code",
   "execution_count": 78,
   "metadata": {},
   "outputs": [],
   "source": [
    "import json\n",
    "from pprint import pprint\n",
    "\n",
    "import geopandas as gpd\n",
    "from IPython.display import Image\n",
    "from matplotlib import pyplot as plt\n",
    "import pdal\n",
    "import pyproj\n",
    "import seaborn as sns\n",
    "import shapely\n",
    "from shapely.plotting import plot_polygon\n",
    "import open3d\n",
    "plt.style.use('ggplot')\n",
    "\n",
    "\n",
    "IN_FILE_PATH = \"../datasets/01ID7913_org.las\"\n",
    "IN_EPSG = 'EPSG:6669'"
   ]
  },
  {
   "cell_type": "markdown",
   "metadata": {},
   "source": [
    "## **ファイルの読み込みと概要の確認**\n",
    "---\n",
    "\"Pipeline\"は辞書型のオブジェクトに処理を書いて、文字列に変換し使用します。'.json'ファイルに処理の内容を書いて、それを読み込んでも構いませんが、Notebookを使用するのであれば、わざわざ'.json'に記述するのは面倒でしょう。"
   ]
  },
  {
   "cell_type": "code",
   "execution_count": 15,
   "metadata": {},
   "outputs": [
    {
     "name": "stdout",
     "output_type": "stream",
     "text": [
      "{'metadata': {'filters.merge': {},\n",
      "              'readers.las': {'comp_spatialreference': '',\n",
      "                              'compressed': False,\n",
      "                              'copc': False,\n",
      "                              'count': 6684582,\n",
      "                              'creation_doy': 0,\n",
      "                              'creation_year': 0,\n",
      "                              'dataformat_id': 2,\n",
      "                              'dataoffset': 227,\n",
      "                              'filesource_id': 0,\n",
      "                              'global_encoding': 0,\n",
      "                              'global_encoding_base64': 'AAA=',\n",
      "                              'header_size': 227,\n",
      "                              'major_version': 1,\n",
      "                              'maxx': -3000,\n",
      "                              'maxy': 38250,\n",
      "                              'maxz': 1302.339999,\n",
      "                              'minor_version': 2,\n",
      "                              'minx': -4000,\n",
      "                              'miny': 37500,\n",
      "                              'minz': 142.85,\n",
      "                              'offset_x': -4000,\n",
      "                              'offset_y': 37500,\n",
      "                              'offset_z': 142.85,\n",
      "                              'point_length': 26,\n",
      "                              'project_id': '00000000-0000-0000-0000-000000000000',\n",
      "                              'scale_x': 4.6566128752458e-07,\n",
      "                              'scale_y': 3.49245965643435e-07,\n",
      "                              'scale_z': 5.39929606020451e-07,\n",
      "                              'software_id': 'TREND-POINT',\n",
      "                              'spatialreference': '',\n",
      "                              'srs': {'compoundwkt': '',\n",
      "                                      'horizontal': '',\n",
      "                                      'isgeocentric': False,\n",
      "                                      'isgeographic': False,\n",
      "                                      'json': {},\n",
      "                                      'prettycompoundwkt': '',\n",
      "                                      'prettywkt': '',\n",
      "                                      'proj4': '',\n",
      "                                      'units': {'horizontal': 'unknown',\n",
      "                                                'vertical': ''},\n",
      "                                      'vertical': '',\n",
      "                                      'wkt': ''},\n",
      "                              'system_id': 'FC'}}}\n"
     ]
    }
   ],
   "source": [
    "sentence = \\\n",
    "    {\n",
    "        \"pipeline\": [\n",
    "            # このListの中に処理を描いた辞書を追加していく\n",
    "            {\n",
    "                \"type\": \"readers.las\",\n",
    "                \"filename\": IN_FILE_PATH\n",
    "            }\n",
    "        ]\n",
    "    }\n",
    "# \n",
    "js = json.dumps(sentence)\n",
    "pipeline = pdal.Pipeline(js)\n",
    "\n",
    "# Pipelineの実行\n",
    "pipeline.execute()\n",
    "\n",
    "metadata = pipeline.metadata\n",
    "pprint(metadata)"
   ]
  },
  {
   "cell_type": "markdown",
   "metadata": {},
   "source": [
    "上記で出力したメタデータの'spatialreference'に注目します。"
   ]
  },
  {
   "cell_type": "code",
   "execution_count": 16,
   "metadata": {},
   "outputs": [
    {
     "name": "stdout",
     "output_type": "stream",
     "text": [
      "Spatial Reference: \n"
     ]
    }
   ],
   "source": [
    "srs = metadata.get('metadata')\\\n",
    "        .get('readers.las')\\\n",
    "        .get('spatialreference')\n",
    "\n",
    "print(f\"Spatial Reference: {srs}\")"
   ]
  },
  {
   "cell_type": "markdown",
   "metadata": {},
   "source": [
    "'spatialreference' には何も記録されていません。**`Spatial Reference System（srs: 空間参照系）`** とは現実世界の位置を特定する為のルールであり、空間参照系の種類によって、原点となる場所が異なります。\n",
    "\n",
    "データには記録されていませんが、オープンナガサキのサイトには \"世界測地系(JGD2011)／平面直角座標系第1系\" と書かれていたので、\"EPSG:6669\" を設定しましょう。ちなみに原点は長崎県の海にあります。\n",
    "\n",
    "今回は間違いはありませんが、どっかの誰かから貰った適当なデータなどで、空間参照系が記録されていない場合はどうしたらいいのでしょうか。\n",
    "<br><br><br>\n",
    "\n",
    "\n",
    "## **データ範囲の確認**\n",
    "---\n",
    "先ほど出力したメタデータの中には、XY座標の範囲が記録されています。それを取り出して、\"geopandas.GeoDataFrame.explore\" を使用し、動的なマップに投影、ダウンロードした範囲と一致するかを見てみましょう。"
   ]
  },
  {
   "cell_type": "code",
   "execution_count": 17,
   "metadata": {},
   "outputs": [
    {
     "name": "stdout",
     "output_type": "stream",
     "text": [
      "\n",
      "計測範囲面積    : 75.0ha\n",
      "計測点数        : 6,684,582\n",
      "1㎡あたりの点数 : 8.9 \n",
      "\n"
     ]
    }
   ],
   "source": [
    "meta_data_readers = metadata.get('metadata').get('readers.las')\n",
    "x_max = meta_data_readers.get('maxx')\n",
    "x_min = meta_data_readers.get('minx')\n",
    "y_max = meta_data_readers.get('maxy')\n",
    "y_min = meta_data_readers.get('miny')\n",
    "\n",
    "# 範囲のPolygonを作成\n",
    "boundary = shapely.box(x_min, y_min, x_max, y_max)\n",
    "\n",
    "# \n",
    "count = meta_data_readers.get('count')\n",
    "report = \\\n",
    "f\"\"\"\n",
    "計測範囲面積    : {boundary.area / 10_000}ha\n",
    "計測点数        : {'{0:,}'.format(count)}\n",
    "1㎡あたりの点数 : {round(count / boundary.area, 1)} \n",
    "\"\"\"\n",
    "print(report)"
   ]
  },
  {
   "cell_type": "markdown",
   "metadata": {},
   "source": [
    "設定するSRS"
   ]
  },
  {
   "cell_type": "code",
   "execution_count": 10,
   "metadata": {},
   "outputs": [
    {
     "name": "stdout",
     "output_type": "stream",
     "text": [
      "('PROJCRS[\"JGD2011 / Japan Plane Rectangular CS I\",\\n'\n",
      " '    BASEGEOGCRS[\"JGD2011\",\\n'\n",
      " '        DATUM[\"Japanese Geodetic Datum 2011\",\\n'\n",
      " '            ELLIPSOID[\"GRS 1980\",6378137,298.257222101,\\n'\n",
      " '                LENGTHUNIT[\"metre\",1]]],\\n'\n",
      " '        PRIMEM[\"Greenwich\",0,\\n'\n",
      " '            ANGLEUNIT[\"degree\",0.0174532925199433]],\\n'\n",
      " '        ID[\"EPSG\",6668]],\\n'\n",
      " '    CONVERSION[\"Japan Plane Rectangular CS zone I\",\\n'\n",
      " '        METHOD[\"Transverse Mercator\",\\n'\n",
      " '            ID[\"EPSG\",9807]],\\n'\n",
      " '        PARAMETER[\"Latitude of natural origin\",33,\\n'\n",
      " '            ANGLEUNIT[\"degree\",0.0174532925199433],\\n'\n",
      " '            ID[\"EPSG\",8801]],\\n'\n",
      " '        PARAMETER[\"Longitude of natural origin\",129.5,\\n'\n",
      " '            ANGLEUNIT[\"degree\",0.0174532925199433],\\n'\n",
      " '            ID[\"EPSG\",8802]],\\n'\n",
      " '        PARAMETER[\"Scale factor at natural origin\",0.9999,\\n'\n",
      " '            SCALEUNIT[\"unity\",1],\\n'\n",
      " '            ID[\"EPSG\",8805]],\\n'\n",
      " '        PARAMETER[\"False easting\",0,\\n'\n",
      " '            LENGTHUNIT[\"metre\",1],\\n'\n",
      " '            ID[\"EPSG\",8806]],\\n'\n",
      " '        PARAMETER[\"False northing\",0,\\n'\n",
      " '            LENGTHUNIT[\"metre\",1],\\n'\n",
      " '            ID[\"EPSG\",8807]]],\\n'\n",
      " '    CS[Cartesian,2],\\n'\n",
      " '        AXIS[\"northing (X)\",north,\\n'\n",
      " '            ORDER[1],\\n'\n",
      " '            LENGTHUNIT[\"metre\",1]],\\n'\n",
      " '        AXIS[\"easting (Y)\",east,\\n'\n",
      " '            ORDER[2],\\n'\n",
      " '            LENGTHUNIT[\"metre\",1]],\\n'\n",
      " '    USAGE[\\n'\n",
      " '        SCOPE[\"Cadastre, engineering survey, topographic mapping (large and '\n",
      " 'medium scale).\"],\\n'\n",
      " '        AREA[\"Japan - onshore - Kyushu west of approximately 130°E - '\n",
      " 'Nagasaki-ken; islands of Kagoshima-ken between 27°N and 32°N and between '\n",
      " '128°18\\'E and 130°E (between 128°18\\'E and 30°13\\'E for Amami islands).\"],\\n'\n",
      " '        BBOX[26.96,128.17,34.74,130.46]],\\n'\n",
      " '    ID[\"EPSG\",6669]]')\n"
     ]
    }
   ],
   "source": [
    "proj_crs = pyproj.CRS(IN_EPSG)\n",
    "# 今回は記事で見やすい様に\"pretty=True\"としていますが、普通は不要です。\n",
    "IN_SRS = proj_crs.to_wkt(pretty=True)\n",
    "pprint(IN_SRS)"
   ]
  },
  {
   "cell_type": "code",
   "execution_count": 11,
   "metadata": {},
   "outputs": [
    {
     "data": {
      "text/html": [
       "<div style=\"width:100%;\"><div style=\"position:relative;width:100%;height:0;padding-bottom:60%;\"><span style=\"color:#565656\">Make this Notebook Trusted to load map: File -> Trust Notebook</span><iframe srcdoc=\"&lt;!DOCTYPE html&gt;\n",
       "&lt;html&gt;\n",
       "&lt;head&gt;\n",
       "    \n",
       "    &lt;meta http-equiv=&quot;content-type&quot; content=&quot;text/html; charset=UTF-8&quot; /&gt;\n",
       "    \n",
       "        &lt;script&gt;\n",
       "            L_NO_TOUCH = false;\n",
       "            L_DISABLE_3D = false;\n",
       "        &lt;/script&gt;\n",
       "    \n",
       "    &lt;style&gt;html, body {width: 100%;height: 100%;margin: 0;padding: 0;}&lt;/style&gt;\n",
       "    &lt;style&gt;#map {position:absolute;top:0;bottom:0;right:0;left:0;}&lt;/style&gt;\n",
       "    &lt;script src=&quot;https://cdn.jsdelivr.net/npm/leaflet@1.9.3/dist/leaflet.js&quot;&gt;&lt;/script&gt;\n",
       "    &lt;script src=&quot;https://code.jquery.com/jquery-3.7.1.min.js&quot;&gt;&lt;/script&gt;\n",
       "    &lt;script src=&quot;https://cdn.jsdelivr.net/npm/bootstrap@5.2.2/dist/js/bootstrap.bundle.min.js&quot;&gt;&lt;/script&gt;\n",
       "    &lt;script src=&quot;https://cdnjs.cloudflare.com/ajax/libs/Leaflet.awesome-markers/2.0.2/leaflet.awesome-markers.js&quot;&gt;&lt;/script&gt;\n",
       "    &lt;link rel=&quot;stylesheet&quot; href=&quot;https://cdn.jsdelivr.net/npm/leaflet@1.9.3/dist/leaflet.css&quot;/&gt;\n",
       "    &lt;link rel=&quot;stylesheet&quot; href=&quot;https://cdn.jsdelivr.net/npm/bootstrap@5.2.2/dist/css/bootstrap.min.css&quot;/&gt;\n",
       "    &lt;link rel=&quot;stylesheet&quot; href=&quot;https://netdna.bootstrapcdn.com/bootstrap/3.0.0/css/bootstrap.min.css&quot;/&gt;\n",
       "    &lt;link rel=&quot;stylesheet&quot; href=&quot;https://cdn.jsdelivr.net/npm/@fortawesome/fontawesome-free@6.2.0/css/all.min.css&quot;/&gt;\n",
       "    &lt;link rel=&quot;stylesheet&quot; href=&quot;https://cdnjs.cloudflare.com/ajax/libs/Leaflet.awesome-markers/2.0.2/leaflet.awesome-markers.css&quot;/&gt;\n",
       "    &lt;link rel=&quot;stylesheet&quot; href=&quot;https://cdn.jsdelivr.net/gh/python-visualization/folium/folium/templates/leaflet.awesome.rotate.min.css&quot;/&gt;\n",
       "    \n",
       "            &lt;meta name=&quot;viewport&quot; content=&quot;width=device-width,\n",
       "                initial-scale=1.0, maximum-scale=1.0, user-scalable=no&quot; /&gt;\n",
       "            &lt;style&gt;\n",
       "                #map_6d9a9470486ad700f3168f7e90007a8c {\n",
       "                    position: relative;\n",
       "                    width: 100.0%;\n",
       "                    height: 100.0%;\n",
       "                    left: 0.0%;\n",
       "                    top: 0.0%;\n",
       "                }\n",
       "                .leaflet-container { font-size: 1rem; }\n",
       "            &lt;/style&gt;\n",
       "        \n",
       "    \n",
       "                    &lt;style&gt;\n",
       "                        .foliumtooltip {\n",
       "                            \n",
       "                        }\n",
       "                       .foliumtooltip table{\n",
       "                            margin: auto;\n",
       "                        }\n",
       "                        .foliumtooltip tr{\n",
       "                            text-align: left;\n",
       "                        }\n",
       "                        .foliumtooltip th{\n",
       "                            padding: 2px; padding-right: 8px;\n",
       "                        }\n",
       "                    &lt;/style&gt;\n",
       "            \n",
       "&lt;/head&gt;\n",
       "&lt;body&gt;\n",
       "    \n",
       "    \n",
       "            &lt;div class=&quot;folium-map&quot; id=&quot;map_6d9a9470486ad700f3168f7e90007a8c&quot; &gt;&lt;/div&gt;\n",
       "        \n",
       "&lt;/body&gt;\n",
       "&lt;script&gt;\n",
       "    \n",
       "    \n",
       "            var map_6d9a9470486ad700f3168f7e90007a8c = L.map(\n",
       "                &quot;map_6d9a9470486ad700f3168f7e90007a8c&quot;,\n",
       "                {\n",
       "                    center: [33.34152914252786, 129.4623986176131],\n",
       "                    crs: L.CRS.EPSG3857,\n",
       "                    zoom: 10,\n",
       "                    zoomControl: true,\n",
       "                    preferCanvas: false,\n",
       "                }\n",
       "            );\n",
       "            L.control.scale().addTo(map_6d9a9470486ad700f3168f7e90007a8c);\n",
       "\n",
       "            \n",
       "\n",
       "        \n",
       "    \n",
       "            var tile_layer_c294e817dfa4d375ed27acc5fdda5d94 = L.tileLayer(\n",
       "                &quot;https://tile.openstreetmap.org/{z}/{x}/{y}.png&quot;,\n",
       "                {&quot;attribution&quot;: &quot;\\u0026copy; \\u003ca href=\\&quot;https://www.openstreetmap.org/copyright\\&quot;\\u003eOpenStreetMap\\u003c/a\\u003e contributors&quot;, &quot;detectRetina&quot;: false, &quot;maxNativeZoom&quot;: 19, &quot;maxZoom&quot;: 19, &quot;minZoom&quot;: 0, &quot;noWrap&quot;: false, &quot;opacity&quot;: 1, &quot;subdomains&quot;: &quot;abc&quot;, &quot;tms&quot;: false}\n",
       "            );\n",
       "        \n",
       "    \n",
       "            tile_layer_c294e817dfa4d375ed27acc5fdda5d94.addTo(map_6d9a9470486ad700f3168f7e90007a8c);\n",
       "        \n",
       "    \n",
       "            map_6d9a9470486ad700f3168f7e90007a8c.fitBounds(\n",
       "                [[33.338146075807785, 129.45702556904288], [33.34491220924794, 129.46777166618332]],\n",
       "                {}\n",
       "            );\n",
       "        \n",
       "    \n",
       "        function geo_json_03a409ebbd45aaff8cdc351e13bab8e2_styler(feature) {\n",
       "            switch(feature.id) {\n",
       "                default:\n",
       "                    return {&quot;fillOpacity&quot;: 0.5, &quot;weight&quot;: 2};\n",
       "            }\n",
       "        }\n",
       "        function geo_json_03a409ebbd45aaff8cdc351e13bab8e2_highlighter(feature) {\n",
       "            switch(feature.id) {\n",
       "                default:\n",
       "                    return {&quot;fillOpacity&quot;: 0.75};\n",
       "            }\n",
       "        }\n",
       "        function geo_json_03a409ebbd45aaff8cdc351e13bab8e2_pointToLayer(feature, latlng) {\n",
       "            var opts = {&quot;bubblingMouseEvents&quot;: true, &quot;color&quot;: &quot;#3388ff&quot;, &quot;dashArray&quot;: null, &quot;dashOffset&quot;: null, &quot;fill&quot;: true, &quot;fillColor&quot;: &quot;#3388ff&quot;, &quot;fillOpacity&quot;: 0.2, &quot;fillRule&quot;: &quot;evenodd&quot;, &quot;lineCap&quot;: &quot;round&quot;, &quot;lineJoin&quot;: &quot;round&quot;, &quot;opacity&quot;: 1.0, &quot;radius&quot;: 2, &quot;stroke&quot;: true, &quot;weight&quot;: 3};\n",
       "            \n",
       "            let style = geo_json_03a409ebbd45aaff8cdc351e13bab8e2_styler(feature)\n",
       "            Object.assign(opts, style)\n",
       "            \n",
       "            return new L.CircleMarker(latlng, opts)\n",
       "        }\n",
       "\n",
       "        function geo_json_03a409ebbd45aaff8cdc351e13bab8e2_onEachFeature(feature, layer) {\n",
       "            layer.on({\n",
       "                mouseout: function(e) {\n",
       "                    if(typeof e.target.setStyle === &quot;function&quot;){\n",
       "                            geo_json_03a409ebbd45aaff8cdc351e13bab8e2.resetStyle(e.target);\n",
       "                    }\n",
       "                },\n",
       "                mouseover: function(e) {\n",
       "                    if(typeof e.target.setStyle === &quot;function&quot;){\n",
       "                        const highlightStyle = geo_json_03a409ebbd45aaff8cdc351e13bab8e2_highlighter(e.target.feature)\n",
       "                        e.target.setStyle(highlightStyle);\n",
       "                    }\n",
       "                },\n",
       "            });\n",
       "        };\n",
       "        var geo_json_03a409ebbd45aaff8cdc351e13bab8e2 = L.geoJson(null, {\n",
       "                onEachFeature: geo_json_03a409ebbd45aaff8cdc351e13bab8e2_onEachFeature,\n",
       "            \n",
       "                style: geo_json_03a409ebbd45aaff8cdc351e13bab8e2_styler,\n",
       "                pointToLayer: geo_json_03a409ebbd45aaff8cdc351e13bab8e2_pointToLayer,\n",
       "        });\n",
       "\n",
       "        function geo_json_03a409ebbd45aaff8cdc351e13bab8e2_add (data) {\n",
       "            geo_json_03a409ebbd45aaff8cdc351e13bab8e2\n",
       "                .addData(data);\n",
       "        }\n",
       "            geo_json_03a409ebbd45aaff8cdc351e13bab8e2_add({&quot;bbox&quot;: [129.45702556904288, 33.338146075807785, 129.46777166618332, 33.34491220924794], &quot;features&quot;: [{&quot;bbox&quot;: [129.45702556904288, 33.338146075807785, 129.46777166618332, 33.34491220924794], &quot;geometry&quot;: {&quot;coordinates&quot;: [[[129.46777166618332, 33.33814932790148], [129.46776917505622, 33.34491220924794], [129.45702556904288, 33.344908956322875], [129.45702889054496, 33.338146075807785], [129.46777166618332, 33.33814932790148]]], &quot;type&quot;: &quot;Polygon&quot;}, &quot;id&quot;: &quot;0&quot;, &quot;properties&quot;: {}, &quot;type&quot;: &quot;Feature&quot;}], &quot;type&quot;: &quot;FeatureCollection&quot;});\n",
       "\n",
       "        \n",
       "    \n",
       "    geo_json_03a409ebbd45aaff8cdc351e13bab8e2.bindTooltip(\n",
       "    function(layer){\n",
       "    let div = L.DomUtil.create(&#x27;div&#x27;);\n",
       "    \n",
       "    return div\n",
       "    }\n",
       "    ,{&quot;className&quot;: &quot;foliumtooltip&quot;, &quot;sticky&quot;: true});\n",
       "                     \n",
       "    \n",
       "            geo_json_03a409ebbd45aaff8cdc351e13bab8e2.addTo(map_6d9a9470486ad700f3168f7e90007a8c);\n",
       "        \n",
       "&lt;/script&gt;\n",
       "&lt;/html&gt;\" style=\"position:absolute;width:100%;height:100%;left:0;top:0;border:none !important;\" allowfullscreen webkitallowfullscreen mozallowfullscreen></iframe></div></div>"
      ],
      "text/plain": [
       "<folium.folium.Map at 0x244962b5540>"
      ]
     },
     "execution_count": 11,
     "metadata": {},
     "output_type": "execute_result"
    }
   ],
   "source": [
    "gdf = gpd.GeoDataFrame(geometry=[boundary], crs=IN_SRS)\n",
    "gdf.explore()"
   ]
  },
  {
   "cell_type": "markdown",
   "metadata": {},
   "source": [
    "間違いなさそうです。\n",
    "<br><br><br>"
   ]
  },
  {
   "cell_type": "markdown",
   "metadata": {},
   "source": [
    "## **座標参照系の定義**\n",
    "---\n",
    "データに座標参照系を定義する場合は、Pipeline処理の 'readers.xxx' にてデータを読み込む際に 'default_srs' を指定して読み込む事で定義できます。"
   ]
  },
  {
   "cell_type": "code",
   "execution_count": 12,
   "metadata": {},
   "outputs": [
    {
     "name": "stdout",
     "output_type": "stream",
     "text": [
      "('PROJCRS[\"JGD2011 / Japan Plane Rectangular CS I\",\\n'\n",
      " '    BASEGEOGCRS[\"JGD2011\",\\n'\n",
      " '        DATUM[\"Japanese Geodetic Datum 2011\",\\n'\n",
      " '            ELLIPSOID[\"GRS 1980\",6378137,298.257222101,\\n'\n",
      " '                LENGTHUNIT[\"metre\",1]]],\\n'\n",
      " '        PRIMEM[\"Greenwich\",0,\\n'\n",
      " '            ANGLEUNIT[\"degree\",0.0174532925199433]],\\n'\n",
      " '        ID[\"EPSG\",6668]],\\n'\n",
      " '    CONVERSION[\"Japan Plane Rectangular CS zone I\",\\n'\n",
      " '        METHOD[\"Transverse Mercator\",\\n'\n",
      " '            ID[\"EPSG\",9807]],\\n'\n",
      " '        PARAMETER[\"Latitude of natural origin\",33,\\n'\n",
      " '            ANGLEUNIT[\"degree\",0.0174532925199433],\\n'\n",
      " '            ID[\"EPSG\",8801]],\\n'\n",
      " '        PARAMETER[\"Longitude of natural origin\",129.5,\\n'\n",
      " '            ANGLEUNIT[\"degree\",0.0174532925199433],\\n'\n",
      " '            ID[\"EPSG\",8802]],\\n'\n",
      " '        PARAMETER[\"Scale factor at natural origin\",0.9999,\\n'\n",
      " '            SCALEUNIT[\"unity\",1],\\n'\n",
      " '            ID[\"EPSG\",8805]],\\n'\n",
      " '        PARAMETER[\"False easting\",0,\\n'\n",
      " '            LENGTHUNIT[\"metre\",1],\\n'\n",
      " '            ID[\"EPSG\",8806]],\\n'\n",
      " '        PARAMETER[\"False northing\",0,\\n'\n",
      " '            LENGTHUNIT[\"metre\",1],\\n'\n",
      " '            ID[\"EPSG\",8807]]],\\n'\n",
      " '    CS[Cartesian,2],\\n'\n",
      " '        AXIS[\"northing (X)\",north,\\n'\n",
      " '            ORDER[1],\\n'\n",
      " '            LENGTHUNIT[\"metre\",1]],\\n'\n",
      " '        AXIS[\"easting (Y)\",east,\\n'\n",
      " '            ORDER[2],\\n'\n",
      " '            LENGTHUNIT[\"metre\",1]],\\n'\n",
      " '    USAGE[\\n'\n",
      " '        SCOPE[\"Cadastre, engineering survey, topographic mapping (large and '\n",
      " 'medium scale).\"],\\n'\n",
      " '        AREA[\"Japan - onshore - Kyushu west of approximately 130°E - '\n",
      " 'Nagasaki-ken; islands of Kagoshima-ken between 27°N and 32°N and between '\n",
      " '128°18\\'E and 130°E (between 128°18\\'E and 30°13\\'E for Amami islands).\"],\\n'\n",
      " '        BBOX[26.96,128.17,34.74,130.46]],\\n'\n",
      " '    ID[\"EPSG\",6669]]')\n"
     ]
    }
   ],
   "source": [
    "sentence = \\\n",
    "    {\n",
    "        \"pipeline\": [\n",
    "            {\n",
    "                'type': 'readers.las',\n",
    "                'filename': IN_FILE_PATH,\n",
    "                # ここでSRSを指定\n",
    "                'default_srs': IN_SRS\n",
    "            }\n",
    "        ]\n",
    "    }\n",
    "\n",
    "pipeline = pdal.Pipeline(json.dumps(sentence))\n",
    "pipeline.execute()\n",
    "\n",
    "# メタデータを読み込み、空間参照系が定義されているかを確認する。\n",
    "metadata = pipeline.metadata\n",
    "pprint(\n",
    "    metadata.get('metadata')\\\n",
    "            .get('readers.las')\\\n",
    "            .get('spatialreference')\n",
    ")"
   ]
  },
  {
   "cell_type": "markdown",
   "metadata": {},
   "source": [
    "問題なく定義できています。\n",
    "<br><br><br>"
   ]
  },
  {
   "cell_type": "markdown",
   "metadata": {},
   "source": [
    "## **点群データのビジュアライズ**\n",
    "----\n",
    "点群データをビジュアライズする為には、各点の座標が必要です。\"pipeline\" のインスタンスには \"arrays\" のメソッドがあり、Listに \"numpy.ndarray\" の配列を格納して取得する事が可能です。"
   ]
  },
  {
   "cell_type": "code",
   "execution_count": 13,
   "metadata": {},
   "outputs": [
    {
     "data": {
      "text/plain": [
       "[array([(-3999.7200002 , 37554.73      , 249.50999987, 121, 0, 0, 0, 0, 1, 0, 0, 0, 0, 0., 0, 29, 12593, 20303, 22616),\n",
       "        (-3966.03000069, 37517.36999991, 253.99999994, 122, 0, 0, 0, 0, 1, 0, 0, 0, 0, 0., 0, 29, 12079, 17733, 19018),\n",
       "        (-3972.01000013, 37543.96999932, 253.37999986,  95, 0, 0, 0, 0, 1, 0, 0, 0, 0, 0., 0, 29, 16448, 21588, 21074),\n",
       "        ...,\n",
       "        (-3000.        , 37897.95999958, 323.77999955,  92, 0, 0, 0, 0, 1, 0, 0, 0, 0, 0., 0, 29, 65535, 65535, 65535),\n",
       "        (-3000.16000075, 37897.93999931, 323.77999955, 167, 0, 0, 0, 0, 1, 0, 0, 0, 0, 0., 0, 29, 22102, 26471, 24158),\n",
       "        (-3000.16000075, 37912.35999957, 317.51999955,  24, 0, 0, 0, 0, 1, 0, 0, 0, 0, 0., 0, 29, 12850, 21331, 22873)],\n",
       "       dtype=[('X', '<f8'), ('Y', '<f8'), ('Z', '<f8'), ('Intensity', '<u2'), ('ReturnNumber', 'u1'), ('NumberOfReturns', 'u1'), ('ScanDirectionFlag', 'u1'), ('EdgeOfFlightLine', 'u1'), ('Classification', 'u1'), ('Synthetic', 'u1'), ('KeyPoint', 'u1'), ('Withheld', 'u1'), ('Overlap', 'u1'), ('ScanAngleRank', '<f4'), ('UserData', 'u1'), ('PointSourceId', '<u2'), ('Red', '<u2'), ('Green', '<u2'), ('Blue', '<u2')])]"
      ]
     },
     "execution_count": 13,
     "metadata": {},
     "output_type": "execute_result"
    }
   ],
   "source": [
    "arys = pipeline.arrays\n",
    "arys"
   ]
  },
  {
   "cell_type": "markdown",
   "metadata": {},
   "source": [
    "上記の \"ary\" を使用しても構いませんが、\"pipeline\" には \"get_dataframe\" メソッドも存在しており、簡単に \"pandas.DataFrame\" に変換する事が出来ます。"
   ]
  },
  {
   "cell_type": "code",
   "execution_count": 14,
   "metadata": {},
   "outputs": [
    {
     "data": {
      "text/html": [
       "<div>\n",
       "<style scoped>\n",
       "    .dataframe tbody tr th:only-of-type {\n",
       "        vertical-align: middle;\n",
       "    }\n",
       "\n",
       "    .dataframe tbody tr th {\n",
       "        vertical-align: top;\n",
       "    }\n",
       "\n",
       "    .dataframe thead th {\n",
       "        text-align: right;\n",
       "    }\n",
       "</style>\n",
       "<table border=\"1\" class=\"dataframe\">\n",
       "  <thead>\n",
       "    <tr style=\"text-align: right;\">\n",
       "      <th></th>\n",
       "      <th>X</th>\n",
       "      <th>Y</th>\n",
       "      <th>Z</th>\n",
       "      <th>Intensity</th>\n",
       "      <th>ReturnNumber</th>\n",
       "      <th>NumberOfReturns</th>\n",
       "      <th>ScanDirectionFlag</th>\n",
       "      <th>EdgeOfFlightLine</th>\n",
       "      <th>Classification</th>\n",
       "      <th>Synthetic</th>\n",
       "      <th>KeyPoint</th>\n",
       "      <th>Withheld</th>\n",
       "      <th>Overlap</th>\n",
       "      <th>ScanAngleRank</th>\n",
       "      <th>UserData</th>\n",
       "      <th>PointSourceId</th>\n",
       "      <th>Red</th>\n",
       "      <th>Green</th>\n",
       "      <th>Blue</th>\n",
       "    </tr>\n",
       "  </thead>\n",
       "  <tbody>\n",
       "    <tr>\n",
       "      <th>0</th>\n",
       "      <td>-3999.720000</td>\n",
       "      <td>37554.73</td>\n",
       "      <td>249.51</td>\n",
       "      <td>121</td>\n",
       "      <td>0</td>\n",
       "      <td>0</td>\n",
       "      <td>0</td>\n",
       "      <td>0</td>\n",
       "      <td>1</td>\n",
       "      <td>0</td>\n",
       "      <td>0</td>\n",
       "      <td>0</td>\n",
       "      <td>0</td>\n",
       "      <td>0.0</td>\n",
       "      <td>0</td>\n",
       "      <td>29</td>\n",
       "      <td>12593</td>\n",
       "      <td>20303</td>\n",
       "      <td>22616</td>\n",
       "    </tr>\n",
       "    <tr>\n",
       "      <th>1</th>\n",
       "      <td>-3966.030001</td>\n",
       "      <td>37517.37</td>\n",
       "      <td>254.00</td>\n",
       "      <td>122</td>\n",
       "      <td>0</td>\n",
       "      <td>0</td>\n",
       "      <td>0</td>\n",
       "      <td>0</td>\n",
       "      <td>1</td>\n",
       "      <td>0</td>\n",
       "      <td>0</td>\n",
       "      <td>0</td>\n",
       "      <td>0</td>\n",
       "      <td>0.0</td>\n",
       "      <td>0</td>\n",
       "      <td>29</td>\n",
       "      <td>12079</td>\n",
       "      <td>17733</td>\n",
       "      <td>19018</td>\n",
       "    </tr>\n",
       "  </tbody>\n",
       "</table>\n",
       "</div>"
      ],
      "text/plain": [
       "             X         Y       Z  Intensity  ReturnNumber  NumberOfReturns  \\\n",
       "0 -3999.720000  37554.73  249.51        121             0                0   \n",
       "1 -3966.030001  37517.37  254.00        122             0                0   \n",
       "\n",
       "   ScanDirectionFlag  EdgeOfFlightLine  Classification  Synthetic  KeyPoint  \\\n",
       "0                  0                 0               1          0         0   \n",
       "1                  0                 0               1          0         0   \n",
       "\n",
       "   Withheld  Overlap  ScanAngleRank  UserData  PointSourceId    Red  Green  \\\n",
       "0         0        0            0.0         0             29  12593  20303   \n",
       "1         0        0            0.0         0             29  12079  17733   \n",
       "\n",
       "    Blue  \n",
       "0  22616  \n",
       "1  19018  "
      ]
     },
     "execution_count": 14,
     "metadata": {},
     "output_type": "execute_result"
    }
   ],
   "source": [
    "df = pipeline.get_dataframe(0)\n",
    "df.head(2)"
   ]
  },
  {
   "cell_type": "markdown",
   "metadata": {},
   "source": [
    "DataFrameからXYZの情報を取り出し \"open3d\" で点群を可視化してみましょう。"
   ]
  },
  {
   "cell_type": "code",
   "execution_count": 15,
   "metadata": {},
   "outputs": [
    {
     "name": "stdout",
     "output_type": "stream",
     "text": [
      "(6684582, 3)\n"
     ]
    },
    {
     "data": {
      "text/plain": [
       "array([[-3999.7200002 , 37554.73      ,   249.50999987],\n",
       "       [-3966.03000069, 37517.36999991,   253.99999994],\n",
       "       [-3972.01000013, 37543.96999932,   253.37999986],\n",
       "       ...,\n",
       "       [-3000.        , 37897.95999958,   323.77999955],\n",
       "       [-3000.16000075, 37897.93999931,   323.77999955],\n",
       "       [-3000.16000075, 37912.35999957,   317.51999955]])"
      ]
     },
     "execution_count": 15,
     "metadata": {},
     "output_type": "execute_result"
    }
   ],
   "source": [
    "xyz_names = ['X', 'Y', 'Z']\n",
    "\n",
    "point_cloud = df[xyz_names].to_numpy()\n",
    "print(point_cloud.shape)\n",
    "point_cloud"
   ]
  },
  {
   "cell_type": "markdown",
   "metadata": {},
   "source": [
    "下記のコードを実行すると、アプリが起動します。"
   ]
  },
  {
   "cell_type": "code",
   "execution_count": 16,
   "metadata": {},
   "outputs": [],
   "source": [
    "visualize = open3d.geometry.PointCloud()\n",
    "visualize.points = open3d.utility.Vector3dVector(point_cloud)\n",
    "open3d.visualization.draw_geometries([visualize])"
   ]
  },
  {
   "cell_type": "markdown",
   "metadata": {},
   "source": [
    "添付の画像内の赤丸で囲った場所に1点のみ、なぜか点があります。ぱっと見でもこれはおかしなデータだと判断できますので、次はこの外れ値を除去しましょう。"
   ]
  },
  {
   "cell_type": "code",
   "execution_count": 17,
   "metadata": {},
   "outputs": [
    {
     "data": {
      "image/png": "[encoded data removed]",
      "text/plain": [
       "<IPython.core.display.Image object>"
      ]
     },
     "execution_count": 17,
     "metadata": {},
     "output_type": "execute_result"
    }
   ],
   "source": [
    "Image(r'../images/outlier.png')"
   ]
  },
  {
   "cell_type": "markdown",
   "metadata": {},
   "source": [
    "<br><br><br>\n",
    "\n",
    "\n",
    "## **外れ値の除去**\n",
    "---\n",
    "外れ値の除去は、\"Pipeline\"のワークフローに\"filters\"の辞書を追加して行います。\n",
    "\n",
    "方法としては以下の2つが考えられます。\n",
    "\n",
    " 1. **各点ごとにk個の近傍と比べて、外れ値を定義する閾値を計算。**\n",
    "\n",
    "      この計算は \"filters.outlier\" で行います。\"filters.outlier\"では k個の近傍の平均距離と標準偏差を計算し、外れ値を定義する閾値を計算しているようです。\n",
    "\n",
    "      - **メリット** ...\n",
    "   \n",
    "         簡単に外れ値の除去を行う事が出来る。\n",
    "   \n",
    "      - **デメリット** ...\n",
    "\n",
    "         今回の様に撮影範囲が森林だったりする場合は、ほとんどの点群データは樹冠にぶつかり止まります。しかし、実際に使用したいデータは樹冠だけとは限りません。地形のデータが欲しい場合にこの方法を行うと、数少ない地面のデータが外れ値として定義され、消されてしまうかもしれません。あるいは、今回の様に大きく距離が開いた外れ値があると、標準偏差が大きくなり、パラメーター設定が難しくなります。\n",
    "\n",
    "<br>\n",
    "\n",
    " 2. **自らデータを分析して、必要な条件式を作成する**\n",
    "   \n",
    "      条件式は\"filters.expression\"で行います。今回の様に外れ値が少なく、明らかな場合は一度こちらを試し、データをもう一度見てから \"filters.outlier\" を使用するかを考えると良いと思います。\n",
    "\n",
    "\n",
    "      - **メリット** ...\n",
    "      \n",
    "         自分で条件を書くので、意図しない動きをする事はない。\n",
    "\n",
    "      - **デメリット** ...\n",
    "      \n",
    "         分析が面倒。\n",
    "\n",
    "<br>\n",
    "\n",
    "今回はどちらも試して、どれくらい点の数が減っているのかを確認してみましょう。\n",
    "\n",
    "<br><br>\n",
    "\n",
    "### **filters.outlierの場合**"
   ]
  },
  {
   "cell_type": "code",
   "execution_count": 18,
   "metadata": {},
   "outputs": [],
   "source": [
    "# 結構時間が掛かります。自分のPCでは1分くらいでした。\n",
    "sentence = \\\n",
    "    {\n",
    "        \"pipeline\": [\n",
    "            {\n",
    "                'type': 'readers.las',\n",
    "                'filename': IN_FILE_PATH,\n",
    "                'default_srs': IN_EPSG\n",
    "            },\n",
    "            {\n",
    "                'type':'filters.outlier',\n",
    "                'method': 'statistical',\n",
    "                # 今回は1㎡あたり9点だったので、計算範囲をそれに合わせます。\n",
    "                'mean_k': 9,\n",
    "                # 平均から、標準偏差の何倍を閾値とするか。\n",
    "                'multiplier': 2\n",
    "            }\n",
    "        ]\n",
    "    }\n",
    "\n",
    "pipeline = pdal.Pipeline(json.dumps(sentence))\n",
    "pipeline.execute()\n",
    "\n",
    "df_outlier = pipeline.get_dataframe(idx=0)"
   ]
  },
  {
   "cell_type": "markdown",
   "metadata": {},
   "source": [
    "外れ値除去前と後で点数が変化しているか確かめます。"
   ]
  },
  {
   "cell_type": "code",
   "execution_count": 32,
   "metadata": {},
   "outputs": [
    {
     "name": "stdout",
     "output_type": "stream",
     "text": [
      "\n",
      "処理前: 6,684,582\n",
      "処理後: 6,684,582\n",
      "\n"
     ]
    }
   ],
   "source": [
    "print(\n",
    "f\"\"\"\n",
    "処理前: {'{0:,}'.format(df.shape[0])}\n",
    "処理後: {'{0:,}'.format(df_outlier.shape[0])}\n",
    "\"\"\")"
   ]
  },
  {
   "cell_type": "markdown",
   "metadata": {},
   "source": [
    "外れ値処理をしましたが、データ数に変化はありません。\n",
    "少しパラメーターを調整してみましょう。"
   ]
  },
  {
   "cell_type": "code",
   "execution_count": 34,
   "metadata": {},
   "outputs": [
    {
     "name": "stdout",
     "output_type": "stream",
     "text": [
      "\n",
      "処理前: 6,684,582\n",
      "処理後: 6,684,582\n",
      "\n"
     ]
    }
   ],
   "source": [
    "sentence = \\\n",
    "    {\n",
    "        \"pipeline\": [\n",
    "            {\n",
    "                'type': 'readers.las',\n",
    "                'filename': IN_FILE_PATH,\n",
    "                'default_srs': IN_EPSG\n",
    "            },\n",
    "            {\n",
    "                'type':'filters.outlier',\n",
    "                'method': 'statistical',\n",
    "                'mean_k': 36,\n",
    "                'multiplier': 1\n",
    "            }\n",
    "        ]\n",
    "    }\n",
    "\n",
    "pipeline = pdal.Pipeline(json.dumps(sentence))\n",
    "pipeline.execute()\n",
    "\n",
    "df_outlier = pipeline.get_dataframe(idx=0)\n",
    "\n",
    "print(\n",
    "f\"\"\"\n",
    "処理前: {'{0:,}'.format(df.shape[0])}\n",
    "処理後: {'{0:,}'.format(df_outlier.shape[0])}\n",
    "\"\"\")"
   ]
  },
  {
   "cell_type": "markdown",
   "metadata": {},
   "source": [
    "パラメータを変化させてみましたが、外れ値は除去出来ていません。\n",
    "\n",
    "次はデータを見て、条件式を適用してみます。\n",
    "<br><br>\n",
    "\n",
    "\n",
    "### **filters.expression**\n",
    "条件式では、単純にデータの範囲を可視化し、外れ値のデータを見てみましょう。"
   ]
  },
  {
   "cell_type": "code",
   "execution_count": 67,
   "metadata": {},
   "outputs": [
    {
     "name": "stdout",
     "output_type": "stream",
     "text": [
      "count    6.684582e+06\n",
      "mean     3.154099e+02\n",
      "std      6.870402e+01\n",
      "min      1.428500e+02\n",
      "25%      2.672600e+02\n",
      "50%      2.959000e+02\n",
      "75%      3.566900e+02\n",
      "max      1.302340e+03\n",
      "Name: Z, dtype: float64\n"
     ]
    }
   ],
   "source": [
    "df.describe()['Z']"
   ]
  },
  {
   "cell_type": "code",
   "execution_count": 81,
   "metadata": {},
   "outputs": [
    {
     "data": {
      "image/png": "[encoded data removed]",
      "text/plain": [
       "<Figure size 1400x700 with 2 Axes>"
      ]
     },
     "metadata": {},
     "output_type": "display_data"
    }
   ],
   "source": [
    "fig, ax = plt.subplots(nrows=2, figsize=(14, 7))\n",
    "\n",
    "ax[0].scatter(x=df['X'], y=df['Z'], c='#008899')\n",
    "ax[0].set_ylabel('Terrain (Z)')\n",
    "\n",
    "\n",
    "sns.boxplot(\n",
    "    x=df[\"Z\"], \n",
    "    color='#008899', \n",
    "    notch=True, \n",
    "    ax=ax[1]\n",
    ")\n",
    "ax[1].set_xlabel('Terrain (Z)');"
   ]
  },
  {
   "cell_type": "code",
   "execution_count": 83,
   "metadata": {},
   "outputs": [
    {
     "name": "stdout",
     "output_type": "stream",
     "text": [
      "(1, 19)\n"
     ]
    },
    {
     "data": {
      "text/html": [
       "<div>\n",
       "<style scoped>\n",
       "    .dataframe tbody tr th:only-of-type {\n",
       "        vertical-align: middle;\n",
       "    }\n",
       "\n",
       "    .dataframe tbody tr th {\n",
       "        vertical-align: top;\n",
       "    }\n",
       "\n",
       "    .dataframe thead th {\n",
       "        text-align: right;\n",
       "    }\n",
       "</style>\n",
       "<table border=\"1\" class=\"dataframe\">\n",
       "  <thead>\n",
       "    <tr style=\"text-align: right;\">\n",
       "      <th></th>\n",
       "      <th>X</th>\n",
       "      <th>Y</th>\n",
       "      <th>Z</th>\n",
       "      <th>Intensity</th>\n",
       "      <th>ReturnNumber</th>\n",
       "      <th>NumberOfReturns</th>\n",
       "      <th>ScanDirectionFlag</th>\n",
       "      <th>EdgeOfFlightLine</th>\n",
       "      <th>Classification</th>\n",
       "      <th>Synthetic</th>\n",
       "      <th>KeyPoint</th>\n",
       "      <th>Withheld</th>\n",
       "      <th>Overlap</th>\n",
       "      <th>ScanAngleRank</th>\n",
       "      <th>UserData</th>\n",
       "      <th>PointSourceId</th>\n",
       "      <th>Red</th>\n",
       "      <th>Green</th>\n",
       "      <th>Blue</th>\n",
       "    </tr>\n",
       "  </thead>\n",
       "  <tbody>\n",
       "    <tr>\n",
       "      <th>1944</th>\n",
       "      <td>-3639.080001</td>\n",
       "      <td>37789.96</td>\n",
       "      <td>1302.339999</td>\n",
       "      <td>255</td>\n",
       "      <td>0</td>\n",
       "      <td>0</td>\n",
       "      <td>0</td>\n",
       "      <td>0</td>\n",
       "      <td>1</td>\n",
       "      <td>0</td>\n",
       "      <td>0</td>\n",
       "      <td>0</td>\n",
       "      <td>0</td>\n",
       "      <td>0.0</td>\n",
       "      <td>0</td>\n",
       "      <td>29</td>\n",
       "      <td>8224</td>\n",
       "      <td>15677</td>\n",
       "      <td>14906</td>\n",
       "    </tr>\n",
       "  </tbody>\n",
       "</table>\n",
       "</div>"
      ],
      "text/plain": [
       "                X         Y            Z  Intensity  ReturnNumber  \\\n",
       "1944 -3639.080001  37789.96  1302.339999        255             0   \n",
       "\n",
       "      NumberOfReturns  ScanDirectionFlag  EdgeOfFlightLine  Classification  \\\n",
       "1944                0                  0                 0               1   \n",
       "\n",
       "      Synthetic  KeyPoint  Withheld  Overlap  ScanAngleRank  UserData  \\\n",
       "1944          0         0         0        0            0.0         0   \n",
       "\n",
       "      PointSourceId   Red  Green   Blue  \n",
       "1944             29  8224  15677  14906  "
      ]
     },
     "execution_count": 83,
     "metadata": {},
     "output_type": "execute_result"
    }
   ],
   "source": [
    "_df = df[600 <= df['Z']].copy()\n",
    "print(_df.shape)\n",
    "_df.head(5)"
   ]
  },
  {
   "cell_type": "markdown",
   "metadata": {},
   "source": [
    "ほとんどのデータが600m以内にある中、**1点だけが1300m** の高さにあります。鳥にしては高すぎる気がしますし（知りませんが...）まぁこれが外れ値として考えても問題ないでしょう。\n",
    "\n",
    "条件式は **\"filters.expression\"** で適用します。"
   ]
  },
  {
   "cell_type": "code",
   "execution_count": 84,
   "metadata": {},
   "outputs": [
    {
     "data": {
      "text/plain": [
       "6684581"
      ]
     },
     "execution_count": 84,
     "metadata": {},
     "output_type": "execute_result"
    }
   ],
   "source": [
    "sentence = \\\n",
    "    {\n",
    "        \"pipeline\": [\n",
    "            {\n",
    "                'type': 'readers.las',\n",
    "                'filename': IN_FILE_PATH,\n",
    "                'default_srs': IN_EPSG\n",
    "            },\n",
    "            {\n",
    "                \"type\":\"filters.expression\",\n",
    "                \"expression\":\"(Z < 600)\"\n",
    "            }\n",
    "        ]\n",
    "    }\n",
    "\n",
    "pipeline = pdal.Pipeline(json.dumps(sentence))\n",
    "pipeline.execute()"
   ]
  },
  {
   "cell_type": "code",
   "execution_count": 85,
   "metadata": {},
   "outputs": [
    {
     "name": "stdout",
     "output_type": "stream",
     "text": [
      "\n",
      "処理前: 6,684,582\n",
      "処理後: 6,684,581\n",
      "\n"
     ]
    }
   ],
   "source": [
    "df_outlier = pipeline.get_dataframe(idx=0)\n",
    "\n",
    "print(\n",
    "f\"\"\"\n",
    "処理前: {'{0:,}'.format(df.shape[0])}\n",
    "処理後: {'{0:,}'.format(df_outlier.shape[0])}\n",
    "\"\"\")"
   ]
  },
  {
   "cell_type": "code",
   "execution_count": 87,
   "metadata": {},
   "outputs": [
    {
     "data": {
      "image/png": "[encoded data removed]",
      "text/plain": [
       "<Figure size 1400x700 with 2 Axes>"
      ]
     },
     "metadata": {},
     "output_type": "display_data"
    }
   ],
   "source": [
    "fig, ax = plt.subplots(nrows=2, figsize=(14, 7))\n",
    "\n",
    "ax[0].scatter(x=df_outlier['X'], y=df_outlier['Z'], c='#008899')\n",
    "ax[0].set_ylabel('Terrain (Z)')\n",
    "\n",
    "\n",
    "sns.boxplot(\n",
    "    x=df_outlier[\"Z\"], \n",
    "    color='#008899', \n",
    "    notch=True, \n",
    "    ax=ax[1]\n",
    ")\n",
    "ax[1].set_xlabel('Terrain (Z)');"
   ]
  },
  {
   "cell_type": "markdown",
   "metadata": {},
   "source": [
    "余程おかしな点は処理できました。\n",
    "<br><br><br>\n",
    "\n",
    "\n",
    "## **新たなファイルへの書き込み**\n",
    "---\n",
    "最後に、これまでの \"Pipeline\" 処理に 'データの書き込み' を追加します。"
   ]
  },
  {
   "cell_type": "code",
   "execution_count": 2,
   "metadata": {},
   "outputs": [],
   "source": [
    "OUT_FILE_PATH = r'../datasets/01ID7913_proj.las'"
   ]
  },
  {
   "cell_type": "code",
   "execution_count": 18,
   "metadata": {},
   "outputs": [
    {
     "data": {
      "text/plain": [
       "6684581"
      ]
     },
     "execution_count": 18,
     "metadata": {},
     "output_type": "execute_result"
    }
   ],
   "source": [
    "sentence = \\\n",
    "    {\n",
    "        \"pipeline\": [\n",
    "            {# データの読み込みと、空間参照系の設定\n",
    "                'type': 'readers.las',\n",
    "                'filename': IN_FILE_PATH,\n",
    "                'default_srs': IN_EPSG\n",
    "            },\n",
    "            {# 条件式を使用した外れ値の除去\n",
    "                \"type\":\"filters.expression\",\n",
    "                \"expression\":\"(Z < 600)\"\n",
    "            },\n",
    "            { # las フォーマットで出力する\n",
    "                'type': 'writers.las',\n",
    "                'filename': OUT_FILE_PATH\n",
    "            }\n",
    "        ]\n",
    "    }\n",
    "\n",
    "pipeline = pdal.Pipeline(json.dumps(sentence))\n",
    "pipeline.execute()"
   ]
  },
  {
   "cell_type": "markdown",
   "metadata": {},
   "source": [
    "## **おわりに**\n",
    "---\n",
    "ここまでで、データの読み書きや、外れ値の除去について学んできました。しかし、この程度では実務で使う事は出来ません。GISで使うならば、地形のデータや、地物のデータを作成したいですね。\n",
    "\n",
    "では点群データから、どの様に地形のデータを作成するのでしょうか。今まで見てきた通り、点群データの中には、そのようなラベルは記録されていませんでした。\n",
    "\n",
    "少しデータの断面図を見てみましょう。"
   ]
  },
  {
   "cell_type": "code",
   "execution_count": 69,
   "metadata": {},
   "outputs": [
    {
     "data": {
      "image/png": "[encoded data removed]",
      "text/plain": [
       "<Figure size 640x480 with 1 Axes>"
      ]
     },
     "metadata": {},
     "output_type": "display_data"
    }
   ],
   "source": [
    "y_center = (y_max - y_min) / 2 + y_min\n",
    "x_center = (x_max - x_min) / 2 + x_min\n",
    "distance = 50\n",
    "\n",
    "poly_band = (\n",
    "    shapely.LineString([\n",
    "        [x_center + distance, y_center],\n",
    "        [x_center - distance, y_center]\n",
    "    ])\n",
    "    .buffer(1, cap_style='flat')\n",
    ")\n",
    "\n",
    "fig, ax = plt.subplots()\n",
    "plot_polygon(boundary, ax=ax, color='black', linewidth=2, label='data scope')\n",
    "plot_polygon(poly_band, ax=ax, add_points=False, label='band')\n",
    "ax.legend(bbox_to_anchor=(-0.1, 1));"
   ]
  },
  {
   "cell_type": "code",
   "execution_count": 70,
   "metadata": {},
   "outputs": [
    {
     "name": "stdout",
     "output_type": "stream",
     "text": [
      "\n",
      "総データ数: 6684581\n",
      "帯データ数: 1693\n",
      "\n"
     ]
    }
   ],
   "source": [
    "df = pipeline.get_dataframe(idx=0)\n",
    "geoms = gpd.points_from_xy(df['X'], df['Y'], df['Z'])\n",
    "\n",
    "# 帯の中にあるPointのみ取得\n",
    "select_points = geoms[geoms.intersects(poly_band)]\n",
    "print(\n",
    "f\"\"\"\n",
    "総データ数: {geoms.shape[0]}\n",
    "帯データ数: {select_points.shape[0]}\n",
    "\"\"\")"
   ]
  },
  {
   "cell_type": "code",
   "execution_count": 77,
   "metadata": {},
   "outputs": [
    {
     "data": {
      "image/png": "[encoded data removed]",
      "text/plain": [
       "<Figure size 1400x500 with 1 Axes>"
      ]
     },
     "metadata": {},
     "output_type": "display_data"
    }
   ],
   "source": [
    "fig, ax = plt.subplots(figsize=(14, 5))\n",
    "ax.scatter(x=select_points.x, y=select_points.z, s=5)"
   ]
  },
  {
   "cell_type": "markdown",
   "metadata": {},
   "source": [
    "人間が見ると、低い位置にある点は地面だと思えますが、計算するにはどの様にすればいいのでしょうか。\n",
    "\n",
    "次の記事では **`DTM（Digital Terrain Model）`** の作成や、その為のアルゴリズムについて簡単に解説しようと思っています。"
   ]
  },
  {
   "cell_type": "markdown",
   "metadata": {},
   "source": [
    "<br><br><br><br>\n",
    "\n",
    "## **参考**\n",
    "---\n",
    "\n",
    " - [**Lidar Wikipedia**](https://ja.wikipedia.org/wiki/LIDAR)\n",
    "\n",
    " - [**オープンナガサキ ...**](https://opennagasaki.nerc.or.jp/)\n",
    "\n",
    " - [**PDAL document ...**](https://pdal.io/en/2.7-maintenance/index.html)\n",
    "\n",
    " - [**Pipeline example ...**](https://github.com/PDAL/PDAL/tree/master/test/data/pipeline)\n",
    "\n",
    " - [**このコードがあるGitHubのページ ...**](https://github.com/shingo405nagano/WriteZenn)"
   ]
  }
 ],
 "metadata": {
  "kernelspec": {
   "display_name": "lidar",
   "language": "python",
   "name": "python3"
  },
  "language_info": {
   "codemirror_mode": {
    "name": "ipython",
    "version": 3
   },
   "file_extension": ".py",
   "mimetype": "text/x-python",
   "name": "python",
   "nbconvert_exporter": "python",
   "pygments_lexer": "ipython3",
   "version": "3.10.14"
  }
 },
 "nbformat": 4,
 "nbformat_minor": 2
}
