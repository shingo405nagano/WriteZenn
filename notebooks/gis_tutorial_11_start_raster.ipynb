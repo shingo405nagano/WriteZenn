{
 "cells": [
  {
   "cell_type": "markdown",
   "metadata": {},
   "source": [
    "# **GIS × Python Tutorial Session11.1 ~ RasterDataことはじめ ~**\n",
    "---\n",
    "この記事は「GIS × Python Tutorial」の関連記事です。\n",
    "\n",
    "<br><br><br>\n",
    "\n",
    "## はじめに\n",
    "---\n",
    "今回からはRasterデータの取り扱いについての記事を書いていきます。\n",
    "\n",
    "\n",
    " - 使用するRasterデータの作成\n",
    " - Rasterデータの読み込み\n",
    "\n",
    "    - Input raster from GDAL.\n",
    "    \n",
    "    - Input raster from rasterio.\n",
    "    \n",
    " - Rasterデータの出力\n",
    "\n",
    "    - Output raster from GDAL.\n",
    "\n",
    "    - Output raster from rasterio.\n",
    "\n",
    "\n",
    "## GDALとrasterio"
   ]
  },
  {
   "cell_type": "code",
   "execution_count": 46,
   "metadata": {},
   "outputs": [],
   "source": [
    "from rasterio import Affine\n",
    "\n",
    "import japanize_matplotlib\n",
    "import numpy as np\n",
    "from matplotlib import pyplot as plt\n",
    "from osgeo import gdal\n",
    "import pyproj\n",
    "import rasterio\n",
    "import rasterio.plot\n",
    "japanize_matplotlib.japanize()\n",
    "\n",
    "\n",
    "IN_EPSG = 'EPSG:6678'\n",
    "proj_crs = pyproj.CRS(IN_EPSG)\n",
    "IN_SRS = proj_crs.to_wkt(pretty=True)"
   ]
  },
  {
   "cell_type": "markdown",
   "metadata": {},
   "source": [
    "## Rasterデータの作成\n",
    "---"
   ]
  },
  {
   "cell_type": "code",
   "execution_count": 2,
   "metadata": {},
   "outputs": [
    {
     "data": {
      "image/png": "[encoded data removed]",
      "text/plain": [
       "<Figure size 640x480 with 1 Axes>"
      ]
     },
     "metadata": {},
     "output_type": "display_data"
    }
   ],
   "source": [
    "cols = 20\n",
    "rows = 15\n",
    "image = np.array([np.random.randint(0, 20, cols) for i in range(rows)])\n",
    "\n",
    "extent = (0, cols, 0, rows)\n",
    "fig, ax = plt.subplots()\n",
    "ax.set_title('適当に作成したRaster')\n",
    "ax.imshow(image, extent=extent, cmap='terrain');"
   ]
  },
  {
   "cell_type": "markdown",
   "metadata": {},
   "source": [
    "## GDALを使用したRasterの出力\n",
    "---"
   ]
  },
  {
   "cell_type": "code",
   "execution_count": 3,
   "metadata": {},
   "outputs": [
    {
     "name": "stderr",
     "output_type": "stream",
     "text": [
      "d:\\jlab\\envs\\lidar\\lib\\site-packages\\osgeo\\gdal.py:312: FutureWarning: Neither gdal.UseExceptions() nor gdal.DontUseExceptions() has been explicitly called. In GDAL 4.0, exceptions will be enabled by default.\n",
      "  warnings.warn(\n"
     ]
    },
    {
     "data": {
      "text/plain": [
       "0"
      ]
     },
     "execution_count": 3,
     "metadata": {},
     "output_type": "execute_result"
    }
   ],
   "source": [
    "# ファイルパス\n",
    "RASTER_FILE_GDAL = r'../datasets/session11/RASTER_GDAL.tif'\n",
    "\n",
    "# メタデータの準備\n",
    "meta_data = dict(\n",
    "    xsize=cols,\n",
    "    ysize=rows,\n",
    "    bands=1,\n",
    "    eType=gdal.GDT_Byte\n",
    ")\n",
    "\n",
    "# 書き込み準備\n",
    "driver_gtiff = gdal.GetDriverByName('GTiff')\n",
    "gdal_dst = driver_gtiff.Create(RASTER_FILE_GDAL, **meta_data)\n",
    "\n",
    "# 空間参照系の定義\n",
    "gdal_dst.SetProjection(IN_SRS)\n",
    "\n",
    "# 座標やセルサイズの定義\n",
    "# [X_Min, セルの幅, 行回転, Y_Max, 列回転, セルの高さ]\n",
    "transform = [0, 1, 0, rows, 0, -1]\n",
    "gdal_dst.SetGeoTransform(transform)\n",
    "\n",
    "# Rasterの書き込み\n",
    "gdal_dst.GetRasterBand(1).WriteArray(image)\n",
    "gdal_dst.GetRasterBand(1).SetNoDataValue(-9999)\n",
    "gdal_dst.FlushCache()\n",
    "gdal_dst.Close()"
   ]
  },
  {
   "cell_type": "markdown",
   "metadata": {},
   "source": [
    "## GDALを使用したRasterの読み込み\n",
    "---"
   ]
  },
  {
   "cell_type": "code",
   "execution_count": 4,
   "metadata": {},
   "outputs": [
    {
     "name": "stdout",
     "output_type": "stream",
     "text": [
      "< GDAL >\n",
      "Projection: PROJCS[\"JGD2011 / Japan Plane Rectangular CS X\",GEOGCS[\"JGD2011\",DATUM[\"Japanese_Geodetic_Datum_2011\",SPHEROID[\"GRS 1980\",6378137,298.257222101,AUTHORITY[\"EPSG\",\"7019\"]],AUTHORITY[\"EPSG\",\"1128\"]],PRIMEM[\"Greenwich\",0,AUTHORITY[\"EPSG\",\"8901\"]],UNIT[\"degree\",0.0174532925199433,AUTHORITY[\"EPSG\",\"9122\"]],AUTHORITY[\"EPSG\",\"6668\"]],PROJECTION[\"Transverse_Mercator\"],PARAMETER[\"latitude_of_origin\",40],PARAMETER[\"central_meridian\",140.833333333333],PARAMETER[\"scale_factor\",0.9999],PARAMETER[\"false_easting\",0],PARAMETER[\"false_northing\",0],UNIT[\"metre\",1,AUTHORITY[\"EPSG\",\"9001\"]],AXIS[\"Northing\",NORTH],AXIS[\"Easting\",EAST],AUTHORITY[\"EPSG\",\"6678\"]]\n",
      "Transform: (0.0, 1.0, 0.0, 15.0, 0.0, -1.0)\n",
      "Bands: 1\n",
      "Array shape: (15, 20)\n",
      "\n"
     ]
    }
   ],
   "source": [
    "gdal_dst = gdal.Open(RASTER_FILE_GDAL)\n",
    "gdal_ary = gdal_dst.ReadAsArray(0)\n",
    "\n",
    "\n",
    "print(f\"\"\"< GDAL >\n",
    "Projection: {gdal_dst.GetProjection()}\n",
    "Transform: {gdal_dst.GetGeoTransform()}\n",
    "Bands: {gdal_dst.RasterCount}\n",
    "Array shape: {gdal_ary.shape}\n",
    "\"\"\")"
   ]
  },
  {
   "cell_type": "markdown",
   "metadata": {},
   "source": [
    "## rasterioを使用したRasterの出力と読み込み\n",
    "---"
   ]
  },
  {
   "cell_type": "code",
   "execution_count": 5,
   "metadata": {},
   "outputs": [],
   "source": [
    "# ファイルパス\n",
    "RASTER_FILE_RIO = r'../datasets/session11/RASTER_RIO.tif'\n",
    "\n",
    "# メタデータの準備\n",
    "meta_data = dict(\n",
    "    driver='GTiff',\n",
    "    dtype='uint8',\n",
    "    count=1,\n",
    "    height=rows,\n",
    "    width=cols,\n",
    "    crs=IN_SRS,\n",
    "    transform=Affine(1, 0, 0, 0, -1, rows)\n",
    ")\n",
    "\n",
    "# Rasterの書き込み\n",
    "with rasterio.open(RASTER_FILE_RIO, mode='w', **meta_data) as rio_dst:\n",
    "    rio_dst.write(image, 1)\n"
   ]
  },
  {
   "cell_type": "markdown",
   "metadata": {},
   "source": [
    "## rasterioを使用したRasterの読み込み\n",
    "---"
   ]
  },
  {
   "cell_type": "code",
   "execution_count": 6,
   "metadata": {},
   "outputs": [
    {
     "name": "stdout",
     "output_type": "stream",
     "text": [
      "< rasterio >\n",
      "Projection: PROJCS[\"JGD2011 / Japan Plane Rectangular CS X\",GEOGCS[\"JGD2011\",DATUM[\"Japanese_Geodetic_Datum_2011\",SPHEROID[\"GRS 1980\",6378137,298.257222101,AUTHORITY[\"EPSG\",\"7019\"]],AUTHORITY[\"EPSG\",\"1128\"]],PRIMEM[\"Greenwich\",0,AUTHORITY[\"EPSG\",\"8901\"]],UNIT[\"degree\",0.0174532925199433,AUTHORITY[\"EPSG\",\"9122\"]],AUTHORITY[\"EPSG\",\"6668\"]],PROJECTION[\"Transverse_Mercator\"],PARAMETER[\"latitude_of_origin\",40],PARAMETER[\"central_meridian\",140.833333333333],PARAMETER[\"scale_factor\",0.9999],PARAMETER[\"false_easting\",0],PARAMETER[\"false_northing\",0],UNIT[\"metre\",1,AUTHORITY[\"EPSG\",\"9001\"]],AXIS[\"Northing\",NORTH],AXIS[\"Easting\",EAST],AUTHORITY[\"EPSG\",\"6678\"]]\n",
      "Transform: \n",
      "| 1.00, 0.00, 0.00|\n",
      "| 0.00,-1.00, 15.00|\n",
      "| 0.00, 0.00, 1.00|\n",
      "Bands: (1,)\n",
      "Array shape: (15, 20)\n",
      "\n"
     ]
    }
   ],
   "source": [
    "rio_dst = rasterio.open(RASTER_FILE_RIO)\n",
    "rio_ary = rio_dst.read(1)\n",
    "\n",
    "print(f\"\"\"< rasterio >\n",
    "Projection: {rio_dst.read_crs().to_wkt()}\n",
    "Transform: \n",
    "{rio_dst.transform}\n",
    "Bands: {rio_dst.indexes}\n",
    "Array shape: {rio_ary.shape}\n",
    "\"\"\")\n"
   ]
  },
  {
   "cell_type": "code",
   "execution_count": null,
   "metadata": {},
   "outputs": [],
   "source": []
  }
 ],
 "metadata": {
  "kernelspec": {
   "display_name": "my_qgis",
   "language": "python",
   "name": "python3"
  },
  "language_info": {
   "codemirror_mode": {
    "name": "ipython",
    "version": 3
   },
   "file_extension": ".py",
   "mimetype": "text/x-python",
   "name": "python",
   "nbconvert_exporter": "python",
   "pygments_lexer": "ipython3",
   "version": "3.10.14"
  }
 },
 "nbformat": 4,
 "nbformat_minor": 2
}
