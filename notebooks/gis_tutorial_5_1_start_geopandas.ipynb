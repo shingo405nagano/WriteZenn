{
 "cells": [
  {
   "cell_type": "markdown",
   "metadata": {},
   "source": [
    "# **GIS × Python Tutorial 5.1 ~ geopandas ことはじめ GeoDataFrameの基本 ~**\n",
    "\n",
    "<br>\n",
    "\n",
    "## **はじめに**\n",
    "この記事は「GIS × Python Tutorial」の関連記事です。\n",
    "今回は`geopandas.GeoDataFrame`の基本について解説します。pythonを使用する方であればpandasを使用した事がある方が多いかと思いますので、分からない部分はgeopandasドキュメントを見て行けば躓かずに理解できるかと思います。またgeopandasのgeometryはshapelyのgeometryオブジェクトが入力されるので、個別のメソッドはshapelyの公式ドキュメント、あるいは前回の記事を参考にしてください。\n",
    "\n",
    "https://zenn.dev/daidai_daitai/articles/968e08b495f9e2\n",
    "\n",
    "<br>\n",
    "\n",
    "## **geopandas とは**\n",
    "**geopandas**は、pandasの拡張であり地理空間情報を扱いやすくした DataFrame を操作する事が出来ます。ドキュメントも非常に読みやすいと思いますので、このシリーズを読んでもっと詳しく知りたい方はドキュメントを読んでみてください。またチュートリアルも充実しているようなので GitHub のリンクも貼っておきます。また今回の実行環境や\n",
    "\n",
    "https://geopandas.org/en/stable/docs.html\n",
    "\n",
    "https://github.com/geopandas/geopandas/tree/main/doc/source/gallery\n",
    "\n",
    "\n",
    "<br>\n",
    "\n",
    "## **Install geopandas**\n",
    "\n",
    "https://geopandas.org/en/stable/getting_started.html\n",
    "\n",
    "<br>\n",
    "\n",
    "## **コード実行の準備**\n",
    "\n",
    "### **Import**"
   ]
  },
  {
   "cell_type": "code",
   "execution_count": 137,
   "metadata": {},
   "outputs": [],
   "source": [
    "# 今回使用するライブラリのインポート\n",
    "import fiona\n",
    "import geopandas as gpd\n",
    "from matplotlib import pyplot as plt\n",
    "import numpy as np\n",
    "import shapely\n",
    "plt.style.use('ggplot')"
   ]
  },
  {
   "cell_type": "markdown",
   "metadata": {},
   "source": [
    "### **データの作成**\n",
    "適当にデータを作成します。"
   ]
  },
  {
   "cell_type": "code",
   "execution_count": 142,
   "metadata": {},
   "outputs": [],
   "source": [
    "# 弘前城の位置\n",
    "x1 = 140.46362773837438\n",
    "y1 = 40.60790364299233\n",
    "point1 = shapely.Point(x1, y1)\n",
    "\n",
    "# 弘前城二の丸の位置\n",
    "x2 = 140.46539395937307\n",
    "y2 = 40.60780032475679\n",
    "point2 = shapely.Point(x2, y2)\n",
    "\n",
    "# ランダムな点群を作成\n",
    "length = 200\n",
    "alphabet = 'ABCDE'\n",
    "xs = np.random.normal(x1, abs(x1 - x2), length)\n",
    "ys = np.random.normal(y1, abs(y1 - y2), length)\n",
    "points = [shapely.Point(_x, _y) for _x, _y in zip(xs, ys)]\n",
    "# アルファベットからランダムに値を取得\n",
    "indexes = np.random.randint(0, len(alphabet), length)\n",
    "codes = [alphabet[idx] for idx in indexes]\n",
    "# 適当な値を作成\n",
    "values1 = np.random.normal(100, 20, length)"
   ]
  },
  {
   "cell_type": "markdown",
   "metadata": {},
   "source": [
    "<br>\n",
    "\n",
    "## **GeoDataFrameの作成**\n",
    "`geopandas.GeoDataFrame`の作成はほとんど`pandas.DataFrame`と同じです。違うのは **geometry** と **crs** を設定する点です。geometry には `shapely.geometry.XXX` の Geometry を List などの Iterable な型に入れて渡します。crs には EPSG コードや WKT-CRS文字列等の座標系が識別できるものを渡します。"
   ]
  },
  {
   "cell_type": "code",
   "execution_count": 24,
   "metadata": {},
   "outputs": [
    {
     "name": "stdout",
     "output_type": "stream",
     "text": [
      "shape: (200, 2)\n"
     ]
    },
    {
     "data": {
      "text/html": [
       "<div>\n",
       "<style scoped>\n",
       "    .dataframe tbody tr th:only-of-type {\n",
       "        vertical-align: middle;\n",
       "    }\n",
       "\n",
       "    .dataframe tbody tr th {\n",
       "        vertical-align: top;\n",
       "    }\n",
       "\n",
       "    .dataframe thead th {\n",
       "        text-align: right;\n",
       "    }\n",
       "</style>\n",
       "<table border=\"1\" class=\"dataframe\">\n",
       "  <thead>\n",
       "    <tr style=\"text-align: right;\">\n",
       "      <th></th>\n",
       "      <th>CODE</th>\n",
       "      <th>geometry</th>\n",
       "    </tr>\n",
       "  </thead>\n",
       "  <tbody>\n",
       "    <tr>\n",
       "      <th>0</th>\n",
       "      <td>A</td>\n",
       "      <td>POINT (140.46436 40.60803)</td>\n",
       "    </tr>\n",
       "    <tr>\n",
       "      <th>1</th>\n",
       "      <td>E</td>\n",
       "      <td>POINT (140.46494 40.60793)</td>\n",
       "    </tr>\n",
       "    <tr>\n",
       "      <th>2</th>\n",
       "      <td>C</td>\n",
       "      <td>POINT (140.46419 40.60786)</td>\n",
       "    </tr>\n",
       "    <tr>\n",
       "      <th>3</th>\n",
       "      <td>D</td>\n",
       "      <td>POINT (140.46323 40.60783)</td>\n",
       "    </tr>\n",
       "    <tr>\n",
       "      <th>4</th>\n",
       "      <td>C</td>\n",
       "      <td>POINT (140.45861 40.60794)</td>\n",
       "    </tr>\n",
       "  </tbody>\n",
       "</table>\n",
       "</div>"
      ],
      "text/plain": [
       "  CODE                    geometry\n",
       "0    A  POINT (140.46436 40.60803)\n",
       "1    E  POINT (140.46494 40.60793)\n",
       "2    C  POINT (140.46419 40.60786)\n",
       "3    D  POINT (140.46323 40.60783)\n",
       "4    C  POINT (140.45861 40.60794)"
      ]
     },
     "execution_count": 24,
     "metadata": {},
     "output_type": "execute_result"
    }
   ],
   "source": [
    "IN_EPSG = 'EPSG:4326'\n",
    "\n",
    "gdf = (\n",
    "    gpd.GeoDataFrame(\n",
    "        data={'CODE': codes},\n",
    "        # 今回はgeometryにList[shapely.Point]を渡す。\n",
    "        geometry=points,\n",
    "        crs=IN_EPSG\n",
    "    )\n",
    ")\n",
    "\n",
    "print(f\"shape: {gdf.shape}\")\n",
    "gdf.head()"
   ]
  },
  {
   "cell_type": "markdown",
   "metadata": {},
   "source": [
    "## **geometry**\n",
    "geometry の列を見てみましょう。geometry の列は`geopandas.geoseries.GeoSeries`になっているのが確認できます。この状態の時には geopadnas は地理的空間的なメソッドを扱う事が出来る様になっています。pandas のメソッドを扱ったりするとこれが外れたりするので、エラーが出たら確認してみましょう。"
   ]
  },
  {
   "cell_type": "code",
   "execution_count": 42,
   "metadata": {},
   "outputs": [
    {
     "name": "stdout",
     "output_type": "stream",
     "text": [
      "\n",
      "<< dtypes >>\n",
      "CODE          object\n",
      "geometry    geometry\n",
      "dtype: object\n",
      "\n",
      "<< series type >>\n",
      "CODE = <class 'pandas.core.series.Series'>\n",
      "geometry = <class 'geopandas.geoseries.GeoSeries'>\n",
      "\n"
     ]
    }
   ],
   "source": [
    "print(f\"\"\"\n",
    "<< dtypes >>\n",
    "{gdf.dtypes}\n",
    "\n",
    "<< series type >>\n",
    "CODE = {type(gdf['CODE'])}\n",
    "geometry = {type(gdf.geometry)}\n",
    "\"\"\")"
   ]
  },
  {
   "cell_type": "markdown",
   "metadata": {},
   "source": [
    "geometry が設定されていない場合は以下の様にエラーが出ます。"
   ]
  },
  {
   "cell_type": "code",
   "execution_count": 65,
   "metadata": {},
   "outputs": [
    {
     "ename": "AttributeError",
     "evalue": "You are calling a geospatial method on the GeoDataFrame, but the active geometry column to use has not been set. \nThere are no existing columns with geometry data type. You can add a geometry column as the active geometry column with df.set_geometry. ",
     "output_type": "error",
     "traceback": [
      "\u001b[1;31m---------------------------------------------------------------------------\u001b[0m",
      "\u001b[1;31mAttributeError\u001b[0m                            Traceback (most recent call last)",
      "Cell \u001b[1;32mIn[65], line 2\u001b[0m\n\u001b[0;32m      1\u001b[0m _gdf \u001b[38;5;241m=\u001b[39m gpd\u001b[38;5;241m.\u001b[39mGeoDataFrame(data\u001b[38;5;241m=\u001b[39m{\u001b[38;5;124m'\u001b[39m\u001b[38;5;124mCODE\u001b[39m\u001b[38;5;124m'\u001b[39m: codes, \u001b[38;5;124m'\u001b[39m\u001b[38;5;124mSHAPE\u001b[39m\u001b[38;5;124m'\u001b[39m: points})\n\u001b[1;32m----> 2\u001b[0m \u001b[43m_gdf\u001b[49m\u001b[38;5;241;43m.\u001b[39;49m\u001b[43mgeometry\u001b[49m\n",
      "File \u001b[1;32md:\\jlab\\envs\\lidar\\lib\\site-packages\\pandas\\core\\generic.py:6296\u001b[0m, in \u001b[0;36mNDFrame.__getattr__\u001b[1;34m(self, name)\u001b[0m\n\u001b[0;32m   6289\u001b[0m \u001b[38;5;28;01mif\u001b[39;00m (\n\u001b[0;32m   6290\u001b[0m     name \u001b[38;5;129;01mnot\u001b[39;00m \u001b[38;5;129;01min\u001b[39;00m \u001b[38;5;28mself\u001b[39m\u001b[38;5;241m.\u001b[39m_internal_names_set\n\u001b[0;32m   6291\u001b[0m     \u001b[38;5;129;01mand\u001b[39;00m name \u001b[38;5;129;01mnot\u001b[39;00m \u001b[38;5;129;01min\u001b[39;00m \u001b[38;5;28mself\u001b[39m\u001b[38;5;241m.\u001b[39m_metadata\n\u001b[0;32m   6292\u001b[0m     \u001b[38;5;129;01mand\u001b[39;00m name \u001b[38;5;129;01mnot\u001b[39;00m \u001b[38;5;129;01min\u001b[39;00m \u001b[38;5;28mself\u001b[39m\u001b[38;5;241m.\u001b[39m_accessors\n\u001b[0;32m   6293\u001b[0m     \u001b[38;5;129;01mand\u001b[39;00m \u001b[38;5;28mself\u001b[39m\u001b[38;5;241m.\u001b[39m_info_axis\u001b[38;5;241m.\u001b[39m_can_hold_identifiers_and_holds_name(name)\n\u001b[0;32m   6294\u001b[0m ):\n\u001b[0;32m   6295\u001b[0m     \u001b[38;5;28;01mreturn\u001b[39;00m \u001b[38;5;28mself\u001b[39m[name]\n\u001b[1;32m-> 6296\u001b[0m \u001b[38;5;28;01mreturn\u001b[39;00m \u001b[38;5;28;43mobject\u001b[39;49m\u001b[38;5;241;43m.\u001b[39;49m\u001b[38;5;21;43m__getattribute__\u001b[39;49m\u001b[43m(\u001b[49m\u001b[38;5;28;43mself\u001b[39;49m\u001b[43m,\u001b[49m\u001b[43m \u001b[49m\u001b[43mname\u001b[49m\u001b[43m)\u001b[49m\n",
      "File \u001b[1;32md:\\jlab\\envs\\lidar\\lib\\site-packages\\geopandas\\geodataframe.py:236\u001b[0m, in \u001b[0;36mGeoDataFrame._get_geometry\u001b[1;34m(self)\u001b[0m\n\u001b[0;32m    229\u001b[0m     \u001b[38;5;28;01melse\u001b[39;00m:\n\u001b[0;32m    230\u001b[0m         msg \u001b[38;5;241m+\u001b[39m\u001b[38;5;241m=\u001b[39m (\n\u001b[0;32m    231\u001b[0m             \u001b[38;5;124m\"\u001b[39m\u001b[38;5;130;01m\\n\u001b[39;00m\u001b[38;5;124mThere are no existing columns with geometry data type. You can \u001b[39m\u001b[38;5;124m\"\u001b[39m\n\u001b[0;32m    232\u001b[0m             \u001b[38;5;124m\"\u001b[39m\u001b[38;5;124madd a geometry column as the active geometry column with \u001b[39m\u001b[38;5;124m\"\u001b[39m\n\u001b[0;32m    233\u001b[0m             \u001b[38;5;124m\"\u001b[39m\u001b[38;5;124mdf.set_geometry. \u001b[39m\u001b[38;5;124m\"\u001b[39m\n\u001b[0;32m    234\u001b[0m         )\n\u001b[1;32m--> 236\u001b[0m     \u001b[38;5;28;01mraise\u001b[39;00m \u001b[38;5;167;01mAttributeError\u001b[39;00m(msg)\n\u001b[0;32m    237\u001b[0m \u001b[38;5;28;01mreturn\u001b[39;00m \u001b[38;5;28mself\u001b[39m[\u001b[38;5;28mself\u001b[39m\u001b[38;5;241m.\u001b[39m_geometry_column_name]\n",
      "\u001b[1;31mAttributeError\u001b[0m: You are calling a geospatial method on the GeoDataFrame, but the active geometry column to use has not been set. \nThere are no existing columns with geometry data type. You can add a geometry column as the active geometry column with df.set_geometry. "
     ]
    }
   ],
   "source": [
    "_gdf = gpd.GeoDataFrame(data={'CODE': codes, 'SHAPE': points})\n",
    "_gdf.geometry"
   ]
  },
  {
   "cell_type": "markdown",
   "metadata": {},
   "source": [
    "geometry を設定してみましょう。実は geometry の列名は何でも構いません。"
   ]
  },
  {
   "cell_type": "code",
   "execution_count": 70,
   "metadata": {},
   "outputs": [
    {
     "name": "stdout",
     "output_type": "stream",
     "text": [
      "\n",
      "<< dtypes >>\n",
      "CODE       object\n",
      "SHAPE    geometry\n",
      "dtype: object\n",
      "\n",
      "<< series type >>\n",
      "CODE = <class 'pandas.core.series.Series'>\n",
      "geometry = <class 'geopandas.geoseries.GeoSeries'>\n",
      "\n"
     ]
    }
   ],
   "source": [
    "_gdf.set_geometry('SHAPE', inplace=True)\n",
    "\n",
    "print(f\"\"\"\n",
    "<< dtypes >>\n",
    "{_gdf.dtypes}\n",
    "\n",
    "<< series type >>\n",
    "CODE = {type(_gdf['CODE'])}\n",
    "geometry = {type(_gdf.geometry)}\n",
    "\"\"\")"
   ]
  },
  {
   "cell_type": "markdown",
   "metadata": {},
   "source": [
    "### **CRSの確認**\n",
    "crs を設定していれば`GeodataFrame.crs`のメソッドでCRSを確認する事が出来ます。"
   ]
  },
  {
   "cell_type": "code",
   "execution_count": 77,
   "metadata": {},
   "outputs": [
    {
     "data": {
      "text/plain": [
       "<Geographic 2D CRS: EPSG:4326>\n",
       "Name: WGS 84\n",
       "Axis Info [ellipsoidal]:\n",
       "- Lat[north]: Geodetic latitude (degree)\n",
       "- Lon[east]: Geodetic longitude (degree)\n",
       "Area of Use:\n",
       "- name: World.\n",
       "- bounds: (-180.0, -90.0, 180.0, 90.0)\n",
       "Datum: World Geodetic System 1984 ensemble\n",
       "- Ellipsoid: WGS 84\n",
       "- Prime Meridian: Greenwich"
      ]
     },
     "execution_count": 77,
     "metadata": {},
     "output_type": "execute_result"
    }
   ],
   "source": [
    "gdf.crs"
   ]
  },
  {
   "cell_type": "markdown",
   "metadata": {},
   "source": [
    "wkt-crs も見てみます。"
   ]
  },
  {
   "cell_type": "code",
   "execution_count": 83,
   "metadata": {},
   "outputs": [
    {
     "name": "stdout",
     "output_type": "stream",
     "text": [
      "GEOGCRS[\"WGS 84\",\n",
      "    ENSEMBLE[\"World Geodetic System 1984 ensemble\",\n",
      "        MEMBER[\"World Geodetic System 1984 (Transit)\"],\n",
      "        MEMBER[\"World Geodetic System 1984 (G730)\"],\n",
      "        MEMBER[\"World Geodetic System 1984 (G873)\"],\n",
      "        MEMBER[\"World Geodetic System 1984 (G1150)\"],\n",
      "        MEMBER[\"World Geodetic System 1984 (G1674)\"],\n",
      "        MEMBER[\"World Geodetic System 1984 (G1762)\"],\n",
      "        MEMBER[\"World Geodetic System 1984 (G2139)\"],\n",
      "        ELLIPSOID[\"WGS 84\",6378137,298.257223563,\n",
      "            LENGTHUNIT[\"metre\",1]],\n",
      "        ENSEMBLEACCURACY[2.0]],\n",
      "    PRIMEM[\"Greenwich\",0,\n",
      "        ANGLEUNIT[\"degree\",0.0174532925199433]],\n",
      "    CS[ellipsoidal,2],\n",
      "        AXIS[\"geodetic latitude (Lat)\",north,\n",
      "            ORDER[1],\n",
      "            ANGLEUNIT[\"degree\",0.0174532925199433]],\n",
      "        AXIS[\"geodetic longitude (Lon)\",east,\n",
      "            ORDER[2],\n",
      "            ANGLEUNIT[\"degree\",0.0174532925199433]],\n",
      "    USAGE[\n",
      "        SCOPE[\"Horizontal component of 3D system.\"],\n",
      "        AREA[\"World.\"],\n",
      "        BBOX[-90,-180,90,180]],\n",
      "    ID[\"EPSG\",4326]]\n"
     ]
    }
   ],
   "source": [
    "print(gdf.crs.to_wkt(pretty=True))"
   ]
  },
  {
   "cell_type": "markdown",
   "metadata": {},
   "source": [
    "EPSGコードも出力してみましょう。"
   ]
  },
  {
   "cell_type": "code",
   "execution_count": 87,
   "metadata": {},
   "outputs": [
    {
     "name": "stdout",
     "output_type": "stream",
     "text": [
      "4326\n"
     ]
    }
   ],
   "source": [
    "print(gdf.crs.to_epsg())"
   ]
  },
  {
   "cell_type": "markdown",
   "metadata": {},
   "source": [
    "### **CRSが設定されていない場合**\n",
    "CRSが設定されていない場合は設定する事が可能です。"
   ]
  },
  {
   "cell_type": "code",
   "execution_count": 146,
   "metadata": {},
   "outputs": [
    {
     "name": "stdout",
     "output_type": "stream",
     "text": [
      "EPSG 1: None\n",
      "EPSG 2: 4326\n"
     ]
    }
   ],
   "source": [
    "gdf.crs = None\n",
    "print(f\"EPSG 1: {gdf.crs}\")\n",
    "\n",
    "gdf.set_crs(IN_EPSG, inplace=True)\n",
    "print(f\"EPSG 2: {gdf.crs.to_epsg()}\")"
   ]
  },
  {
   "cell_type": "markdown",
   "metadata": {},
   "source": [
    "<br>\n",
    "\n",
    "## **投影変換**\n",
    "\n",
    "geopandas での投影変換は非常に簡単です。しかし、CRS が設定されていない場合はエラーになるので、上で書いた様にCRSは確認する様にしましょう。"
   ]
  },
  {
   "cell_type": "code",
   "execution_count": 96,
   "metadata": {},
   "outputs": [
    {
     "name": "stdout",
     "output_type": "stream",
     "text": [
      "\n",
      "IN_EPSG: 4326\n",
      "OUT_EPSG: 6678\n",
      "\n"
     ]
    }
   ],
   "source": [
    "OUT_EPSG = 'EPSG:6678'\n",
    "gdf_jgd = gdf.to_crs(OUT_EPSG)\n",
    "\n",
    "\n",
    "print(f\"\"\"\n",
    "IN_EPSG: {gdf.crs.to_epsg()}\n",
    "OUT_EPSG: {gdf_jgd.crs.to_epsg()}\n",
    "\"\"\")"
   ]
  },
  {
   "cell_type": "markdown",
   "metadata": {},
   "source": [
    "### UTM座標系の推定\n",
    "`estimate_utm_crs`メソッドで UTM 座標系を推定する事が出来ます。都道府県を跨ぐような中規模のデータセットを使用する場合には非常に便利です。\n",
    "\n",
    "`estimate_utm_crs`は \"datum_name\" を指定する事が出来ます。デフォルトは 'WGS 84' ですがいくつか見てみましょう。"
   ]
  },
  {
   "cell_type": "code",
   "execution_count": 160,
   "metadata": {},
   "outputs": [
    {
     "data": {
      "text/plain": [
       "<Projected CRS: EPSG:32654>\n",
       "Name: WGS 84 / UTM zone 54N\n",
       "Axis Info [cartesian]:\n",
       "- E[east]: Easting (metre)\n",
       "- N[north]: Northing (metre)\n",
       "Area of Use:\n",
       "- name: Between 138°E and 144°E, northern hemisphere between equator and 84°N, onshore and offshore. Japan. Russian Federation.\n",
       "- bounds: (138.0, 0.0, 144.0, 84.0)\n",
       "Coordinate Operation:\n",
       "- name: UTM zone 54N\n",
       "- method: Transverse Mercator\n",
       "Datum: World Geodetic System 1984 ensemble\n",
       "- Ellipsoid: WGS 84\n",
       "- Prime Meridian: Greenwich"
      ]
     },
     "execution_count": 160,
     "metadata": {},
     "output_type": "execute_result"
    }
   ],
   "source": [
    "gdf.estimate_utm_crs()"
   ]
  },
  {
   "cell_type": "code",
   "execution_count": 161,
   "metadata": {},
   "outputs": [
    {
     "data": {
      "text/plain": [
       "<Projected CRS: EPSG:3100>\n",
       "Name: JGD2000 / UTM zone 54N\n",
       "Axis Info [cartesian]:\n",
       "- E[east]: Easting (metre)\n",
       "- N[north]: Northing (metre)\n",
       "Area of Use:\n",
       "- name: Japan - between 138°E and 144°E, onshore and offshore.\n",
       "- bounds: (138.0, 17.63, 144.0, 46.05)\n",
       "Coordinate Operation:\n",
       "- name: UTM zone 54N\n",
       "- method: Transverse Mercator\n",
       "Datum: Japanese Geodetic Datum 2000\n",
       "- Ellipsoid: GRS 1980\n",
       "- Prime Meridian: Greenwich"
      ]
     },
     "execution_count": 161,
     "metadata": {},
     "output_type": "execute_result"
    }
   ],
   "source": [
    "gdf.estimate_utm_crs(datum_name='JGD2000')"
   ]
  },
  {
   "cell_type": "code",
   "execution_count": 162,
   "metadata": {},
   "outputs": [
    {
     "data": {
      "text/plain": [
       "<Projected CRS: EPSG:6691>\n",
       "Name: JGD2011 / UTM zone 54N\n",
       "Axis Info [cartesian]:\n",
       "- E[east]: Easting (metre)\n",
       "- N[north]: Northing (metre)\n",
       "Area of Use:\n",
       "- name: Japan - between 138°E and 144°E, onshore and offshore.\n",
       "- bounds: (138.0, 17.63, 144.0, 46.05)\n",
       "Coordinate Operation:\n",
       "- name: UTM zone 54N\n",
       "- method: Transverse Mercator\n",
       "Datum: Japanese Geodetic Datum 2011\n",
       "- Ellipsoid: GRS 1980\n",
       "- Prime Meridian: Greenwich"
      ]
     },
     "execution_count": 162,
     "metadata": {},
     "output_type": "execute_result"
    }
   ],
   "source": [
    "gdf.estimate_utm_crs(datum_name='JGD2011')"
   ]
  },
  {
   "cell_type": "markdown",
   "metadata": {},
   "source": [
    "これを使用して投影変換してみましょう。"
   ]
  },
  {
   "cell_type": "code",
   "execution_count": 165,
   "metadata": {},
   "outputs": [
    {
     "name": "stdout",
     "output_type": "stream",
     "text": [
      "EPSG: 6691\n"
     ]
    }
   ],
   "source": [
    "wkt_crs = gdf.estimate_utm_crs(datum_name='JGD2011')\n",
    "gdf_utm = gdf.to_crs(wkt_crs)\n",
    "\n",
    "print(f\"EPSG: {gdf_utm.crs.to_epsg()}\")"
   ]
  },
  {
   "cell_type": "markdown",
   "metadata": {},
   "source": [
    "<br>\n",
    "\n",
    "## **shapely のメソッド**\n",
    "GeoSeries では shapely のメソッドを使用する事が出来ます。これが geopandas が強力なライブラリーである 1つの理由です。"
   ]
  },
  {
   "cell_type": "code",
   "execution_count": 126,
   "metadata": {},
   "outputs": [
    {
     "name": "stdout",
     "output_type": "stream",
     "text": [
      "0      POLYGON ((-31213.614 67574.607, -31213.663 675...\n",
      "1      POLYGON ((-31164.385 67563.137, -31164.433 675...\n",
      "2      POLYGON ((-31228.231 67556.076, -31228.280 675...\n",
      "3      POLYGON ((-31309.522 67553.114, -31309.570 675...\n",
      "4      POLYGON ((-31700.033 67566.941, -31700.081 675...\n",
      "                             ...                        \n",
      "195    POLYGON ((-31255.266 67560.511, -31255.314 675...\n",
      "196    POLYGON ((-31237.935 67569.198, -31237.983 675...\n",
      "197    POLYGON ((-31643.755 67589.807, -31643.803 675...\n",
      "198    POLYGON ((-31502.709 67561.446, -31502.757 675...\n",
      "199    POLYGON ((-31485.363 67565.156, -31485.412 675...\n",
      "Length: 200, dtype: geometry\n"
     ]
    }
   ],
   "source": [
    "# 各Pointから10mのBufferを作成\n",
    "print(gdf_jgd.geometry.buffer(10))"
   ]
  },
  {
   "cell_type": "code",
   "execution_count": 127,
   "metadata": {},
   "outputs": [
    {
     "name": "stdout",
     "output_type": "stream",
     "text": [
      "  CODE                      geometry   from_base\n",
      "0    A  POINT (-31223.614 67574.607)   63.640951\n",
      "1    E  POINT (-31174.385 67563.137)  111.391292\n",
      "2    C  POINT (-31238.231 67556.076)   47.761971\n",
      "3    D  POINT (-31319.522 67553.114)   34.646377\n",
      "4    C  POINT (-31710.033 67566.941)  424.323105\n"
     ]
    }
   ],
   "source": [
    "# 弘前城の位置を入力したGeoDataFrameを作成\n",
    "base_gdf_jgd = (\n",
    "    gpd.GeoDataFrame(\n",
    "        data={'CODE': ['BASE']}, \n",
    "        geometry=[point1], \n",
    "        crs=IN_EPSG\n",
    "    )\n",
    "    .to_crs(OUT_EPSG)\n",
    ")\n",
    "\n",
    "# 各Pointと弘前城との距離を計測\n",
    "gdf_jgd['from_base'] = gdf_jgd.distance(base_gdf_jgd.geometry.iloc[0])\n",
    "\n",
    "print(gdf_jgd.head())"
   ]
  },
  {
   "cell_type": "markdown",
   "metadata": {},
   "source": [
    "<br>\n",
    "\n",
    "## **データの出力**\n",
    "\n",
    "今回は **geojson** で出力する場合と **geopackege** で出力する方法の 2種類を見てみましょう。\n",
    "\n",
    " - geojson はファイル名のみ指定すれば保存できます。\n",
    "\n",
    " - geopackage はファイル名の他に Layer 名を指定する必要があります。"
   ]
  },
  {
   "cell_type": "code",
   "execution_count": 131,
   "metadata": {},
   "outputs": [],
   "source": [
    "# geojsonで出力する場合\n",
    "OUT_FILE_GEOJSON = r'../datasets/session5/Hirosaki.geojson'\n",
    "gdf.to_file(OUT_FILE_GEOJSON, driver='GeoJSON')\n",
    "\n",
    "# geopackegeに出力する場合\n",
    "OUT_FILE_GEOPACKEGE = r'../datasets/session5/Hirosaki.gpkg'\n",
    "\n",
    "LAYER1 = 'RANDOM_DATA'\n",
    "gdf.to_file(OUT_FILE_GEOPACKEGE, layer=LAYER1, driver='GPKG')\n",
    "\n",
    "LAYER2 = 'BasePoints'\n",
    "gdf.to_file(OUT_FILE_GEOPACKEGE, layer=LAYER2, driver='GPKG')"
   ]
  },
  {
   "cell_type": "markdown",
   "metadata": {},
   "source": [
    "<br>\n",
    "\n",
    "## **データの読み込み**\n",
    "\n",
    "geojson の読み込みは非常に簡単ですが、geopackage は Layer 名を指定する必要があります。"
   ]
  },
  {
   "cell_type": "code",
   "execution_count": 132,
   "metadata": {},
   "outputs": [
    {
     "name": "stdout",
     "output_type": "stream",
     "text": [
      "  CODE                    geometry\n",
      "0    A  POINT (140.46436 40.60803)\n",
      "1    E  POINT (140.46494 40.60793)\n",
      "2    C  POINT (140.46419 40.60786)\n",
      "3    D  POINT (140.46323 40.60783)\n",
      "4    C  POINT (140.45861 40.60794)\n"
     ]
    }
   ],
   "source": [
    "_ = gpd.read_file(OUT_FILE_GEOJSON)\n",
    "print(_.head())"
   ]
  },
  {
   "cell_type": "code",
   "execution_count": 139,
   "metadata": {},
   "outputs": [
    {
     "name": "stdout",
     "output_type": "stream",
     "text": [
      "Layers: ['RANDOM_DATA', 'BasePoints']\n"
     ]
    }
   ],
   "source": [
    "# fionaでgeopackageに保存されているLayer名を取得\n",
    "layers = fiona.listlayers(OUT_FILE_GEOPACKEGE)\n",
    "print(f\"Layers: {layers}\")"
   ]
  },
  {
   "cell_type": "code",
   "execution_count": 140,
   "metadata": {},
   "outputs": [
    {
     "name": "stdout",
     "output_type": "stream",
     "text": [
      "  CODE                    geometry\n",
      "0    A  POINT (140.46436 40.60803)\n",
      "1    E  POINT (140.46494 40.60793)\n",
      "2    C  POINT (140.46419 40.60786)\n",
      "3    D  POINT (140.46323 40.60783)\n",
      "4    C  POINT (140.45861 40.60794)\n"
     ]
    }
   ],
   "source": [
    "gdf = gpd.read_file(OUT_FILE_GEOPACKEGE, layer=layers[0])\n",
    "print(gdf.head())"
   ]
  }
 ],
 "metadata": {
  "kernelspec": {
   "display_name": "lidar",
   "language": "python",
   "name": "python3"
  },
  "language_info": {
   "codemirror_mode": {
    "name": "ipython",
    "version": 3
   },
   "file_extension": ".py",
   "mimetype": "text/x-python",
   "name": "python",
   "nbconvert_exporter": "python",
   "pygments_lexer": "ipython3",
   "version": "3.10.14"
  }
 },
 "nbformat": 4,
 "nbformat_minor": 2
}
